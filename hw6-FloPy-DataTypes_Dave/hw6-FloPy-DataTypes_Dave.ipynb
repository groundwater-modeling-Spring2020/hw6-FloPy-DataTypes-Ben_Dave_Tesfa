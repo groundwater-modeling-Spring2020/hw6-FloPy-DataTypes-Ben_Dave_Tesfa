{
 "cells": [
  {
   "cell_type": "markdown",
   "metadata": {},
   "source": [
    "## Flopy data types, head and budget files\n",
    "\n",
    "In order to access the binary data outputs created by MODFLOW, flopy uses [utility modules](https://modflowpy.github.io/flopydoc/binaryfile.html).\n",
    "\n",
    "The class *flopy.utils.binaryfile.HeadFile* creates a Headfile object with mutliple functions to view and retrieve the data. To confuse us more, the flopy resource describes it as \"a record array consisting of headers, which are record arrays of the modflow header information (kstp, kper, pertim, totim, text, nrow, ncol, ilay)\"\n",
    "\n",
    "### HeadFile - for steady state models\n",
    "In steady state there is one time so there is only one set of head values so *get_alldata()* function is the easisest way to retrieve them, but using *get_data()* can reduce the dimensions of the array."
   ]
  },
  {
   "cell_type": "code",
   "execution_count": 1,
   "metadata": {},
   "outputs": [
    {
     "name": "stdout",
     "output_type": "stream",
     "text": [
      "flopy is installed in c:\\users\\yoko\\appdata\\local\\programs\\python\\python38-32\\lib\\site-packages\\flopy\n",
      "[7.        7.1414423 7.280136  7.4162354 7.5498815 7.6812015 7.810313\n",
      " 7.9373245 8.062335  8.185435  8.306711  8.426242  8.5441    8.660355\n",
      " 8.775068  8.888301  9.00011   9.110545  9.219659  9.327496  9.4341\n",
      " 9.539513  9.643773  9.746919  9.848984 ]\n",
      "[7.        7.1414423 7.280136  7.4162354 7.5498815 7.6812015 7.810313\n",
      " 7.9373245 8.062335  8.185435  8.306711  8.426242  8.5441    8.660355\n",
      " 8.775068  8.888301  9.00011   9.110545  9.219659  9.327496  9.4341\n",
      " 9.539513  9.643773  9.746919  9.848984 ]\n"
     ]
    }
   ],
   "source": [
    "import flopy\n",
    "import numpy as np\n",
    "\n",
    "headobj = flopy.utils.binaryfile.HeadFile('Box_Model.hds') #Get head values for simple steady state model\n",
    "#headobj.list_records() #shows records that are available\n",
    "h = headobj.get_alldata() #Creates an array (ntimes, nlay, nrow, ncol)\n",
    "h2 = headobj.get_data(totim=1, mflay=0) #Creates array (nrow, ncol)\n",
    "print (h[0,0,0,:]) #print heads for 1st row, all columns\n",
    "print (h2[0,:]) #print heads for 1st row, all columns"
   ]
  },
  {
   "cell_type": "markdown",
   "metadata": {},
   "source": [
    "### Head file for different times\n",
    "Instead of *get_alldata()*, we can use *get_data()* and specify the simulation time or timestep and period (list) to get the heads for that specific parameter."
   ]
  },
  {
   "cell_type": "code",
   "execution_count": 2,
   "metadata": {},
   "outputs": [],
   "source": [
    "# read in the heads\n",
    "headobj = flopy.utils.binaryfile.HeadFile('ET_Model_CheckET2.hds')\n",
    "\n",
    "#headobj.list_records()\n",
    "\n",
    "#get data for specified simulation time\n",
    "h = headobj.get_data(totim=100) #get data for specified simulation time\n",
    "#print(h)\n",
    "\n",
    "#NOTE: Can be helpful to get all the times in the head file using get_times()\n",
    "t = headobj.get_times()\n",
    "\n",
    "#get data for a specific timestep and stressperiod(kstp, kper)\n",
    "kstpkper = headobj.get_kstpkper()  \n",
    "\n",
    "#print(kstpkper)\n",
    "\n",
    "#Find the heads across the domain for a given timestep and stress period\n",
    "h = headobj.get_data(kstpkper = (1,1))\n",
    "#print(h)"
   ]
  },
  {
   "cell_type": "markdown",
   "metadata": {},
   "source": [
    "## Head File - time series\n",
    "Use the *get_ts()* function to retrieve head values for a cell - input for single cell as a tuple of (nlay, nrow, ncol), or list of tuples (for multiple cells)"
   ]
  },
  {
   "cell_type": "code",
   "execution_count": 3,
   "metadata": {},
   "outputs": [],
   "source": [
    "#Timeseries\n",
    "cell = (0,0,0) #single cell nlay, nrow, ncol \n",
    "ts = headobj.get_ts(cell) #returns an array (timestep, head value)\n",
    "#print(ts)\n",
    "\n",
    "cells = [(0,0,0), (0,1,1)] #list of tuples for two cells\n",
    "ts = headobj.get_ts(cells) #returns an array (timestep, head value for cell 1, head value for cell 2)\n",
    "\n",
    "#print(ts)"
   ]
  },
  {
   "cell_type": "markdown",
   "metadata": {},
   "source": [
    "### Sticking to your Budget\n",
    "Flopy has the class *flopy.utils.binaryfile.CellBudgetFile()* to create objects with data for to calculate the water budget at each cell.This imports the data from the \".cbc\" file."
   ]
  },
  {
   "cell_type": "code",
   "execution_count": 4,
   "metadata": {},
   "outputs": [
    {
     "name": "stdout",
     "output_type": "stream",
     "text": [
      "[b'   CONSTANT HEAD', b'FLOW RIGHT FACE ', b'FLOW FRONT FACE ', b'              ET', b'        RECHARGE']\n",
      "-0.74454135\n",
      "1.0\n",
      "-1789.3469\n",
      "2450.0\n"
     ]
    }
   ],
   "source": [
    "#create the budjet object from the data in the cbc file\n",
    "budgobj = flopy.utils.binaryfile.CellBudgetFile('ET_Model_CheckET.cbc')\n",
    "\n",
    "recnames = budgobj.get_unique_record_names() #Find all the unique records that occur in the model output\n",
    "print(recnames)\n",
    "\n",
    "et = budgobj.get_data(text='ET', totim=1.0) #returns an array of records with text identifier of ET in format (idx, nlay, nrow, ncol)\n",
    "recharge = budgobj.get_data(text='RECHARGE', totim=1.0) #returns an array of flow rates for front face of cells \n",
    "print(et[0][1][30][49]) #print ET FLux at cell from idx = 0, nlay = 1, nrow = 1, ncol = 49\n",
    "print(recharge[0][1][0][49]) #print recharge Flux for same cell\n",
    "\n",
    "#Sum all ET and Recharge Cells (from HW4)\n",
    "print(np.sum(et[0][1]))\n",
    "print(np.sum(recharge[0][1]))"
   ]
  },
  {
   "cell_type": "markdown",
   "metadata": {},
   "source": [
    "## Budget File - multiple times\n",
    "Just like the headfile, we can pull heads for different times (or timestep and stressperiod List) or a time series for a cell. In addition to the time or cell location we need to identify the record name (ET, Recharge, etc)"
   ]
  },
  {
   "cell_type": "code",
   "execution_count": 5,
   "metadata": {},
   "outputs": [
    {
     "name": "stdout",
     "output_type": "stream",
     "text": [
      "[[ 0.         -0.70188504 -0.70372266 ... -0.7444384  -0.7445071\n",
      "  -0.74454135]\n",
      " [ 0.         -0.70188504 -0.70372266 ... -0.7444384  -0.7445071\n",
      "  -0.74454135]\n",
      " [ 0.         -0.70188504 -0.70372266 ... -0.7444384  -0.7445071\n",
      "  -0.74454135]\n",
      " ...\n",
      " [ 0.         -0.70188504 -0.70372266 ... -0.7444384  -0.7445071\n",
      "  -0.74454135]\n",
      " [ 0.         -0.70188504 -0.70372266 ... -0.7444384  -0.7445071\n",
      "  -0.74454135]\n",
      " [ 0.         -0.70188504 -0.70372266 ... -0.7444384  -0.7445071\n",
      "  -0.74454135]]\n",
      "[[1. 0.]]\n",
      "[[ 1.          0.         -0.70188504]]\n"
     ]
    }
   ],
   "source": [
    "#Find the flux across the domain for a given timestep and stress period\n",
    "et = budgobj.get_data(kstpkper = (0,0), text='ET')\n",
    "print(et[0][1])\n",
    "\n",
    "\n",
    "#Timeseries\n",
    "cell = (0,0,0) #single cell nlay, nrow, ncol \n",
    "ts = budgobj.get_ts(idx=cell, text='ET') #returns an array (timestep, ETflux)\n",
    "print(ts)\n",
    "\n",
    "cells = [(0,0,0), (0,1,1)] #list of tuples for two cells\n",
    "ts = budgobj.get_ts(idx=cells, text='ET') #returns an array (timestep, ET flux for cell 1, ET flux for cell 2)\n",
    "\n",
    "print(ts)"
   ]
  },
  {
   "cell_type": "markdown",
   "metadata": {},
   "source": [
    "### Ploting your information\n",
    "One flopy function worth mentioning is the *flopy.plot.PlotMapView()* This is Flopy's way of reading outputs and graphically representing the file types above."
   ]
  },
  {
   "cell_type": "code",
   "execution_count": null,
   "metadata": {},
   "outputs": [],
   "source": []
  },
  {
   "cell_type": "code",
   "execution_count": null,
   "metadata": {},
   "outputs": [],
   "source": []
  }
 ],
 "metadata": {
  "kernelspec": {
   "display_name": "Python 3",
   "language": "python",
   "name": "python3"
  },
  "language_info": {
   "codemirror_mode": {
    "name": "ipython",
    "version": 3
   },
   "file_extension": ".py",
   "mimetype": "text/x-python",
   "name": "python",
   "nbconvert_exporter": "python",
   "pygments_lexer": "ipython3",
   "version": "3.8.1"
  }
 },
 "nbformat": 4,
 "nbformat_minor": 4
}
