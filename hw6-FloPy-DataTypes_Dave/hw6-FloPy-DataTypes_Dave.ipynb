{
 "cells": [
  {
   "cell_type": "markdown",
   "metadata": {},
   "source": [
    "## Flopy data types, head and budget files\n",
    "\n",
    "In order to access the binary data outputs created by MODFLOW, flopy uses [utility modules](https://modflowpy.github.io/flopydoc/binaryfile.html).\n",
    "\n",
    "The class *flopy.utils.binaryfile.HeadFile* creates a Headfile object with mutliple functions to view and retrieve the data. To confuse us more, the flopy resource describes it as \"a record array consisting of headers, which are record arrays of the modflow header information (kstp, kper, pertim, totim, text, nrow, ncol, ilay)\"\n",
    "\n",
    "### For steady state models\n",
    "There is only one set of head values so get_alldata() function is the easisest way to retrieve them, but using get_data can reduce the dimensions of the array"
   ]
  },
  {
   "cell_type": "code",
   "execution_count": 42,
   "metadata": {},
   "outputs": [
    {
     "name": "stdout",
     "output_type": "stream",
     "text": [
      "[7.        7.1414423 7.280136  7.4162354 7.5498815 7.6812015 7.810313\n",
      " 7.9373245 8.062335  8.185435  8.306711  8.426242  8.5441    8.660355\n",
      " 8.775068  8.888301  9.00011   9.110545  9.219659  9.327496  9.4341\n",
      " 9.539513  9.643773  9.746919  9.848984 ]\n",
      "[7.        7.1414423 7.280136  7.4162354 7.5498815 7.6812015 7.810313\n",
      " 7.9373245 8.062335  8.185435  8.306711  8.426242  8.5441    8.660355\n",
      " 8.775068  8.888301  9.00011   9.110545  9.219659  9.327496  9.4341\n",
      " 9.539513  9.643773  9.746919  9.848984 ]\n",
      "[1.0]\n"
     ]
    }
   ],
   "source": [
    "import flopy\n",
    "import numpy as np\n",
    "\n",
    "headobj = flopy.utils.binaryfile.HeadFile('Box_Model.hds') #Get head values for simple steady state model\n",
    "#headobj.list_records() #shows records that are available\n",
    "h = headobj.get_alldata() #Creates an array (ntimes, nlay, nrow, ncol)\n",
    "h2 = headobj.get_data(totim=1, mflay=0) #Creates array (nrow, ncol)\n",
    "print (h[0,0,0,:]) #print heads for 1st row, all columns\n",
    "print (h2[0,:]) #print heads for 1st row, all columns\n",
    "t = headobj.get_times()\n",
    "print(t)"
   ]
  },
  {
   "cell_type": "markdown",
   "metadata": {},
   "source": [
    "### For transient Models\n",
    "Instead of get_alldata(), we can use get_data() and specify the timestep and period (list) or simulation time to get the heads for that specific parameter"
   ]
  },
  {
   "cell_type": "code",
   "execution_count": 43,
   "metadata": {},
   "outputs": [],
   "source": [
    "# read in the heads\n",
    "headobj = flopy.utils.binaryfile.HeadFile('ET_Model_CheckET2.hds')\n",
    "\n",
    "#headobj.list_records()\n",
    "h = headobj.get_alldata() #gets all data\n",
    "#print(h)\n",
    "h = headobj.get_data(totim=100) #get data for specified time\n",
    "#print(h)\n",
    "t = headobj.get_times()\n",
    "#print(t)\n",
    "#ts = headobj.get_ts()"
   ]
  },
  {
   "cell_type": "markdown",
   "metadata": {},
   "source": [
    "### Sticking to your Budget\n",
    "Flopy has the class *flopy.utils.binaryfile.CellBudgetFile* to create objects with data for to calculate the water budget at each cell.This imports the data from the \".cbc\" file."
   ]
  },
  {
   "cell_type": "code",
   "execution_count": 72,
   "metadata": {},
   "outputs": [
    {
     "name": "stdout",
     "output_type": "stream",
     "text": [
      "-13.21306\n"
     ]
    }
   ],
   "source": [
    "#create the budjet object from the data in the cbc file\n",
    "budgobj = flopy.utils.binaryfile.CellBudgetFile('ET_Model_CheckET.cbc')\n",
    "cellbudg = budgobj.get_data(totim=1)\n",
    "print(cellbudg[0][0][1])\n",
    "\n",
    "\n",
    "et = budgobj.get_data(text='ET', totim=1.0) #returns an array of records with text identifier of ET\n",
    "recharge = budgobj.get_data(text='RECHARGE', totim=1.0) #returns an array of flow rates for front face of cells \n",
    "#print(et[0][1])"
   ]
  },
  {
   "cell_type": "code",
   "execution_count": null,
   "metadata": {},
   "outputs": [],
   "source": []
  }
 ],
 "metadata": {
  "kernelspec": {
   "display_name": "Python 3",
   "language": "python",
   "name": "python3"
  },
  "language_info": {
   "codemirror_mode": {
    "name": "ipython",
    "version": 3
   },
   "file_extension": ".py",
   "mimetype": "text/x-python",
   "name": "python",
   "nbconvert_exporter": "python",
   "pygments_lexer": "ipython3",
   "version": "3.8.1"
  }
 },
 "nbformat": 4,
 "nbformat_minor": 4
}
