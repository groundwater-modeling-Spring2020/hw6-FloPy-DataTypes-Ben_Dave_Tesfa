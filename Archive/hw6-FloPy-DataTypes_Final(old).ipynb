{
 "cells": [
  {
   "cell_type": "markdown",
   "metadata": {},
   "source": [
    "`Work in proress on my own page! Please do not edit the title cell below! Mine is the editabled one.`"
   ]
  },
  {
   "cell_type": "markdown",
   "metadata": {},
   "source": [
    "# hw6-FloPy-DataTypeExample\n",
    "## By `Benjamin Mitchell`, `Dave Murray`, `Tesfa Gebremeskel`\n",
    "\n",
    "### Assignment:\n",
    "  1. A brief summary of what your thing is and how we should understand it.\n",
    "  2. Links for any tutorials or online explanations you found particularly helpful.\n",
    "  3. A code block with an annotated list of key commands to know when working with your item (basically a quick cheat sheet we can refer back to)\n",
    "  4. Walk through the properties of the item you have been assigned interspersing code and text but try not to make it too long. I’ve provided some lists of questions your explanation should cover but this is not exhaustive so feel free to expand on what you think is useful and organize it however you feel will be most useful to others.\n",
    "  5. An annotated example pulling from our course materials on where this data type gets used in our workflows, how we make it, manipulate it, use it, plot it etc.\n",
    "\n",
    "### Other notes:\n",
    "1.\tOne place to start for resources is the online text book we used at the start of the class: https://runestone.academy/runestone/books/published/thinkcspy/index.html. But also some googling might bring you to better resources for whatever item you are working on.\n",
    "2.\tThis is a team assignment so you should just create one notebook for your group\n",
    "\n",
    "### Data types:\n",
    "#### (4) Flopy data types, head and budget files (Ben, Dave & Tesfa)\n",
    "-\tHow do we read in these files?\n",
    "-\tWhat type of object do we have when we read it in?\n",
    "-\tHow can we learn about the properties and variables associated with these files?\n",
    "-\tWhat are the built in flopy tools for working with these objects?\n",
    "-\tHow do we handle the fact that they have multiple timesteps?\n",
    "-\tHow can we extract data from these files to make plots or write to a file? (thing about both if we want to make a timeseries at a point or if we want to make a graph that is a snapshot of the whole domain at a given time).\n",
    "\n",
    "### Different types of FloPy seen through HW's 1-5 (No Repeats):\n",
    "- [(Import)flopy.utils.binaryfile](https://modflowpy.github.io/flopydoc/binaryfile.html)\n",
    "- [flopy.modflow.Modflow(...)](https://modflowpy.github.io/flopydoc/mf.html)\n",
    "- [flopy.modflow.ModflowDis(...)](https://modflowpy.github.io/flopydoc/mfdis.html)\n",
    "- [flopy.plot.PlotMapView(...)](https://modflowpy.github.io/flopydoc/tutorial2.html)\n",
    "- [flopy.modflow.ModflowBas(...)](https://modflowpy.github.io/flopydoc/mfbas.html)\n",
    "- [flopy.modflow.ModflowLpf(...)](https://modflowpy.github.io/flopydoc/mflpf.html)\n",
    "- [flopy.modflow.ModflowOc(...)](https://modflowpy.github.io/flopydoc/mfoc.html)\n",
    "- [flopy.modflow.ModflowPcg(...)](https://modflowpy.github.io/flopydoc/mfpcg.html)\n",
    "- [flopy.modflow.mfwel.ModflowWel(...)](https://modflowpy.github.io/flopydoc/mfwel.html)\n",
    "- [flopy.modflow.ModflowWel(...)](https://modflowpy.github.io/flopydoc/mfwel.html)\n",
    "- [flopy.utils.binaryfile.HeadFile(...)](https://modflowpy.github.io/flopydoc/binaryfile.html)\n",
    "- [flopy.utils.binaryfile.CellBudgetFile(...)](https://modflowpy.github.io/flopydoc/binaryfile.html)\n",
    "- [flopy.utils.util_array.Util3d(...)](https://modflowpy.github.io/flopydoc/util_array.html)\n",
    "- [flopy.utils.reference.SpatialReference(...)](https://modflowpy.github.io/flopydoc/reference.html)\n",
    "- [flopy.utils.util_array.Util2d(...)](https://modflowpy.github.io/flopydoc/util_array.html)\n",
    "- [flopy.utils.reference.TemporalReference(...)](https://modflowpy.github.io/flopydoc/reference.html)\n",
    "- [flopy.modflow.mfrch.ModflowRch(...)](https://modflowpy.github.io/flopydoc/mfrch.html)\n",
    "- [flopy.modpath.ParticleData(...)](https://modflowpy.github.io/flopydoc/mp7particledata.html)\n",
    "- [flopy.modpath.ParticleGroup(...)](https://modflowpy.github.io/flopydoc/mp7particlegroup.html)\n",
    "- [flopy.modpath.CellDataType(...)](https://modflowpy.github.io/flopydoc/mp7particledata.html)\n",
    "- [flopy.modpath.LRCParticleData(...)](https://modflowpy.github.io/flopydoc/mp7particledata.html)\n",
    "- [flopy.modpath.ParticleGroupLRCTemplate(...)](https://modflowpy.github.io/flopydoc/mp7particlegroup.html)\n",
    "- [flopy.modpath.Modpath7(...)](https://modflowpy.github.io/flopydoc/mp7.html)\n",
    "- [flopy.modpath.Modpath7Bas(...)](https://modflowpy.github.io/flopydoc/mp7bas.html)\n",
    "- [flopy.modpath.Modpath7Sim(...)](https://modflowpy.github.io/flopydoc/mp7sim.html)\n",
    "- [flopy.modpath.Modpath7.create_mp7(...)](https://modflowpy.github.io/flopydoc/mp7.html)\n",
    "- [flopy.utils.PathlineFile(...)](https://modflowpy.github.io/flopydoc/modpathfile.html)\n",
    "- [flopy.utils.EndpointFile(...)](https://modflowpy.github.io/flopydoc/modpathfile.html)\n",
    "- [flopy.modflow.mfevt.ModflowEvt(...)](https://modflowpy.github.io/flopydoc/mfevt.html)\n",
    "\n",
    "### All Resource Links:\n",
    "- http://modflowpy.github.io/flopydoc/\n",
    "- https://modflowpy.github.io/flopydoc/code.html#base-classes\n",
    "- https://github.com/modflowpy/flopy#citation-for-flopy\n",
    "-\n",
    "-"
   ]
  },
  {
   "cell_type": "markdown",
   "metadata": {},
   "source": [
    "# 1. Starting Summery:\n",
    "\n"
   ]
  },
  {
   "cell_type": "code",
   "execution_count": null,
   "metadata": {},
   "outputs": [],
   "source": []
  },
  {
   "cell_type": "code",
   "execution_count": null,
   "metadata": {},
   "outputs": [],
   "source": []
  },
  {
   "cell_type": "code",
   "execution_count": null,
   "metadata": {},
   "outputs": [],
   "source": []
  },
  {
   "cell_type": "markdown",
   "metadata": {},
   "source": [
    "FloPy Works Cited\n",
    "-----------------------------------------------\n",
    "\n",
    "##### ***Citation for FloPy:***\n",
    "\n",
    "[Bakker, M., Post, V., Langevin, C. D., Hughes, J. D., White, J. T., Starn, J. J. and Fienen, M. N., 2016, Scripting MODFLOW Model Development Using Python and FloPy: Groundwater, v. 54, p. 733–739, doi:10.1111/gwat.12413.](http://dx.doi.org/10.1111/gwat.12413)\n",
    "\n",
    "##### ***Software/Code citation for FloPy:***\n",
    "\n",
    "[Bakker, M., Post, V., Langevin, C. D., Hughes, J. D., White, J. T., Leaf, A. T., Paulinski, S. R., Larsen, J. D., Toews, M. W., Morway, E. D., Bellino, J. C., Starn, J. J., and Fienen, M. N., 2019, FloPy v3.3.1 &mdash; release candidate: U.S. Geological Survey Software Release, 15 December 2019, http://dx.doi.org/10.5066/F7BK19FH](http://dx.doi.org/10.5066/F7BK19FH)\n",
    "\n",
    "\n",
    "MODFLOW Resources\n",
    "-----------------------------------------------\n",
    "\n",
    "+ [MODFLOW and Related Programs](http://water.usgs.gov/ogw/modflow/)\n",
    "+ [Online guide for MODFLOW-2000](http://water.usgs.gov/nrp/gwsoftware/modflow2000/Guide/index.html)\n",
    "+ [Online guide for MODFLOW-2005](http://water.usgs.gov/ogw/modflow/MODFLOW-2005-Guide/)\n",
    "+ [Online guide for MODFLOW-NWT](http://water.usgs.gov/ogw/modflow-nwt/MODFLOW-NWT-Guide/)\n",
    "\n",
    "\n",
    "Disclaimer\n",
    "-----------------------------------------------\n",
    "\n",
    "This software is preliminary or provisional and is subject to revision. It is being provided to meet the need for timely best science. The software has not received final approval by the U.S. Geological Survey (USGS). No warranty, expressed or implied, is made by the USGS or the U.S. Government as to the functionality of the software and related material nor shall the fact of release constitute any such warranty. The software is provided on the condition that neither the USGS nor the U.S. Government shall be held liable for any damages resulting from the authorized or unauthorized use of the software."
   ]
  },
  {
   "cell_type": "code",
   "execution_count": null,
   "metadata": {},
   "outputs": [],
   "source": []
  }
 ],
 "metadata": {
  "kernelspec": {
   "display_name": "Python 3",
   "language": "python",
   "name": "python3"
  },
  "language_info": {
   "codemirror_mode": {
    "name": "ipython",
    "version": 3
   },
   "file_extension": ".py",
   "mimetype": "text/x-python",
   "name": "python",
   "nbconvert_exporter": "python",
   "pygments_lexer": "ipython3",
   "version": "3.8.1"
  }
 },
 "nbformat": 4,
 "nbformat_minor": 4
}
