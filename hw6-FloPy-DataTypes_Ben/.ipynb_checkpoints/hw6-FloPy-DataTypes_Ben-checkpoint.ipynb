{
 "cells": [
  {
   "cell_type": "markdown",
   "metadata": {},
   "source": [
    "# FloPy-DataTypes\n",
    "# `By Benjamin Mitchell`\n",
    "\n",
    "## Model Description\n",
    "\n",
    "#### Different types of FloPy we have seen: \n",
    "- ## flopy.utils.binaryfile\n",
    "- flopy.modflow.ModflowDis(m)\n",
    "- flopy.modflow.Modflow()\n",
    "- flopy.utils.util_array.Util3d\n",
    "- flopy.utils.reference.SpatialReference\n",
    "- flopy.utils.util_array.Util2d\n",
    "- flopy.utils.reference.TemporalReference\n",
    "- flopy.plot.PlotMapView\n",
    "- \n",
    "\n",
    "#### Resource Links:\n",
    "https://modflowpy.github.io/flopydoc/code.html#base-classes\n",
    "\n",
    " \n",
    "#### Special Links:\n",
    " - Un-irrigated field with ET\n",
    "     - Lower left corner (400,900) Upper Right Corner (1500,1600) (locations given as x,y)\n",
    "     - Extinction depth 100 m\n",
    "     - Two stressperiods: 0 ET for 30 days followed by 1e-3 ET for 335 days repeated for 16 years within the field.\n",
    "     - Outside this field the ET is zero for the entire time period."
   ]
  },
  {
   "cell_type": "markdown",
   "metadata": {},
   "source": [
    "# Starting Summery:\n",
    "\n"
   ]
  },
  {
   "cell_type": "markdown",
   "metadata": {},
   "source": [
    "# HW#1:\n",
    "\n"
   ]
  },
  {
   "cell_type": "markdown",
   "metadata": {},
   "source": [
    "# HW#2:\n",
    "\n"
   ]
  },
  {
   "cell_type": "markdown",
   "metadata": {},
   "source": [
    "# HW#3:\n",
    "\n",
    "## flopy.utils.binaryfile\n",
    "## flopy.modflow.ModflowDis(...)\n",
    "## flopy.modflow.Modflow(...)\n",
    "## flopy.utils.util_array.Util3d\n",
    "## flopy.utils.reference.SpatialReference\n",
    "## flopy.utils.util_array.Util2d\n",
    "## flopy.utils.reference.TemporalReference\n",
    "## flopy.modflow.ModflowLpf(...)\n",
    "## flopy.modflow.ModflowOc(...)\n",
    "## flopy.modflow.ModflowPcg(...)\n",
    "## flopy.modflow.mfrch.ModflowRch(...)\n",
    "## flopy.modflow.ModflowWel(...)\n",
    "## flopy.modpath.ParticleData(...)\n",
    "## flopy.modpath.ParticleGroup(...)\n",
    "## flopy.modpath.CellDataType(...)\n",
    "## flopy.modpath.LRCParticleData(...)\n",
    "## flopy.modpath.ParticleGroupLRCTemplate(...)\n",
    "## flopy.modpath.Modpath7(...)\n",
    "## flopy.modpath.Modpath7Bas(...)\n",
    "## flopy.modpath.Modpath7Sim(...)\n",
    "## flopy.modpath.Modpath7.create_mp7(...)\n",
    "## flopy.utils.PathlineFile(...)\n",
    "## flopy.utils.EndpointFile(...)\n",
    "## flopy.plot.PlotMapView(...)"
   ]
  },
  {
   "cell_type": "code",
   "execution_count": 18,
   "metadata": {},
   "outputs": [
    {
     "data": {
      "text/plain": [
       "24"
      ]
     },
     "execution_count": 18,
     "metadata": {},
     "output_type": "execute_result"
    }
   ],
   "source": [
    "HW3 = [\"flopy.utils.binaryfile\",\"flopy.modflow.ModflowDis(...)\",\"flopy.modflow.Modflow(...)\",\n",
    "       \"flopy.utils.util_array.Util3d\",\"flopy.utils.reference.SpatialReference\",\"flopy.utils.util_array.Util2d\",\n",
    "       \"flopy.utils.reference.TemporalReference\",\"flopy.modflow.ModflowLpf(...)\",\"flopy.modflow.ModflowOc(...)\",\n",
    "       \"flopy.modflow.ModflowPcg(...)\",\"flopy.modflow.mfrch.ModflowRch(...)\",\"flopy.modflow.ModflowWel(...)\",\n",
    "       \"flopy.modpath.ParticleData(...)\",\"flopy.modpath.ParticleGroup(...)\",\"flopy.modpath.CellDataType(...)\",\n",
    "       \"flopy.modpath.LRCParticleData(...)\",\"flopy.modpath.ParticleGroupLRCTemplate(...)\",\"flopy.modpath.Modpath7(...)\",\n",
    "       \"flopy.modpath.Modpath7Bas(...)\",\"flopy.modpath.Modpath7Sim(...)\",\"flopy.modpath.Modpath7.create_mp7(...)\",\n",
    "       \"flopy.utils.PathlineFile(...)\",\"flopy.utils.EndpointFile(...)\",\"flopy.plot.PlotMapView(...)\"]\n",
    "\n",
    "sort_HW3 = sorted(HW3)\n",
    "#print (HW3)\n",
    "#print (\"\")\n",
    "#print (sort_HW3)\n",
    "len(sort_HW3)"
   ]
  },
  {
   "cell_type": "markdown",
   "metadata": {},
   "source": [
    "# HW#4:\n",
    "\n"
   ]
  },
  {
   "cell_type": "markdown",
   "metadata": {},
   "source": [
    "# HW#5:\n",
    "\n"
   ]
  },
  {
   "cell_type": "code",
   "execution_count": null,
   "metadata": {},
   "outputs": [],
   "source": []
  },
  {
   "cell_type": "markdown",
   "metadata": {},
   "source": []
  },
  {
   "cell_type": "markdown",
   "metadata": {},
   "source": [
    "##### ***Citation for FloPy:***\n",
    "\n",
    "[Bakker, M., Post, V., Langevin, C. D., Hughes, J. D., White, J. T., Starn, J. J. and Fienen, M. N., 2016, Scripting MODFLOW Model Development Using Python and FloPy: Groundwater, v. 54, p. 733–739, doi:10.1111/gwat.12413.](http://dx.doi.org/10.1111/gwat.12413)\n",
    "\n",
    "##### ***Software/Code citation for FloPy:***\n",
    "\n",
    "[Bakker, M., Post, V., Langevin, C. D., Hughes, J. D., White, J. T., Leaf, A. T., Paulinski, S. R., Larsen, J. D., Toews, M. W., Morway, E. D., Bellino, J. C., Starn, J. J., and Fienen, M. N., 2019, FloPy v3.3.1 &mdash; release candidate: U.S. Geological Survey Software Release, 15 December 2019, http://dx.doi.org/10.5066/F7BK19FH](http://dx.doi.org/10.5066/F7BK19FH)\n",
    "\n",
    "\n",
    "MODFLOW Resources\n",
    "-----------------------------------------------\n",
    "\n",
    "+ [MODFLOW and Related Programs](http://water.usgs.gov/ogw/modflow/)\n",
    "+ [Online guide for MODFLOW-2000](http://water.usgs.gov/nrp/gwsoftware/modflow2000/Guide/index.html)\n",
    "+ [Online guide for MODFLOW-2005](http://water.usgs.gov/ogw/modflow/MODFLOW-2005-Guide/)\n",
    "+ [Online guide for MODFLOW-NWT](http://water.usgs.gov/ogw/modflow-nwt/MODFLOW-NWT-Guide/)\n",
    "\n",
    "\n",
    "Disclaimer\n",
    "----------\n",
    "\n",
    "This software is preliminary or provisional and is subject to revision. It is being provided to meet the need for timely best science. The software has not received final approval by the U.S. Geological Survey (USGS). No warranty, expressed or implied, is made by the USGS or the U.S. Government as to the functionality of the software and related material nor shall the fact of release constitute any such warranty. The software is provided on the condition that neither the USGS nor the U.S. Government shall be held liable for any damages resulting from the authorized or unauthorized use of the software."
   ]
  }
 ],
 "metadata": {
  "kernelspec": {
   "display_name": "Python 3",
   "language": "python",
   "name": "python3"
  },
  "language_info": {
   "codemirror_mode": {
    "name": "ipython",
    "version": 3
   },
   "file_extension": ".py",
   "mimetype": "text/x-python",
   "name": "python",
   "nbconvert_exporter": "python",
   "pygments_lexer": "ipython3",
   "version": "3.8.1"
  }
 },
 "nbformat": 4,
 "nbformat_minor": 4
}
