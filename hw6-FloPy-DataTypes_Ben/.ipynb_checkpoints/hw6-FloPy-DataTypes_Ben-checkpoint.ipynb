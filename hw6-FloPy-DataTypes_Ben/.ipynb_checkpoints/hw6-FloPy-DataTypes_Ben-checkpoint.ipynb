{
 "cells": [
  {
   "cell_type": "markdown",
   "metadata": {},
   "source": [
    "# hw6-FloPy-DataTypeExample\n",
    "## By `Benjamin Mitchell`, `Dave Murray`, `Tesfa Gebremeskel`\n",
    "\n",
    "### Assignment:\n",
    "  1. A brief summary of what your thing is and how we should understand it.\n",
    "  2. Links for any tutorials or online explanations you found particularly helpful.\n",
    "  3. A code block with an annotated list of key commands to know when working with your item (basically a quick cheat sheet we can refer back to)\n",
    "  4. Walk through the properties of the item you have been assigned interspersing code and text but try not to make it too long. I’ve provided some lists of questions your explanation should cover but this is not exhaustive so feel free to expand on what you think is useful and organize it however you feel will be most useful to others.\n",
    "  5. An annotated example pulling from our course materials on where this data type gets used in our workflows, how we make it, manipulate it, use it, plot it etc.\n",
    "\n",
    "### Other notes:\n",
    "1.\tOne place to start for resources is the online text book we used at the start of the class: https://runestone.academy/runestone/books/published/thinkcspy/index.html. But also some googling might bring you to better resources for whatever item you are working on.\n",
    "2.\tThis is a team assignment so you should just create one notebook for your group\n",
    "\n",
    "### Data types:\n",
    "#### (4) Flopy data types, head and budget files (Ben, Dave & Tesfa)\n",
    "-\tHow do we read in these files?\n",
    "-\tWhat type of object do we have when we read it in?\n",
    "-\tHow can we learn about the properties and variables associated with these files?\n",
    "-\tWhat are the built in flopy tools for working with these objects?\n",
    "-\tHow do we handle the fact that they have multiple timesteps?\n",
    "-\tHow can we extract data from these files to make plots or write to a file? (thing about both if we want to make a timeseries at a point or if we want to make a graph that is a snapshot of the whole domain at a given time).\n",
    "\n",
    "### Different types of FloPy seen through HW's 1-5:\n",
    "- (Import)flopy.utils.binaryfile\n",
    "- flopy.modflow.Modflow(...)\n",
    "- flopy.modflow.ModflowDis(...)\n",
    "- flopy.plot.PlotMapView(...)\n",
    "- flopy.modflow.ModflowBas(...)\n",
    "- flopy.modflow.ModflowLpf(...)\n",
    "- flopy.modflow.ModflowOc(...)\n",
    "- flopy.modflow.ModflowPcg(...)\n",
    "- flopy.modflow.mfwel.ModflowWel(...)\n",
    "- \n",
    "- \n",
    "- \n",
    "- \n",
    "- \n",
    "- \n",
    "- \n",
    "- \n",
    "- \n",
    "- \n",
    "- \n",
    "- \n",
    "- \n",
    "- \n",
    "- \n",
    "- \n",
    "- \n",
    "\n",
    "### All Resource Links:\n",
    "- http://modflowpy.github.io/flopydoc/\n",
    "- https://modflowpy.github.io/flopydoc/code.html#base-classes\n",
    "- https://github.com/modflowpy/flopy#citation-for-flopy\n",
    "-\n",
    "-"
   ]
  },
  {
   "cell_type": "markdown",
   "metadata": {},
   "source": [
    "# 1. Starting Summery:\n",
    "\n"
   ]
  },
  {
   "cell_type": "markdown",
   "metadata": {},
   "source": [
    "# HW#1:\n",
    "## Different types of FloPy inputs seen in this assignment:\n",
    "\n",
    "### (Import)flopy.utils.binaryfile\n",
    "### flopy.modflow.Modflow(...)\n",
    "### flopy.modflow.ModflowDis(...)\n",
    "### flopy.plot.PlotMapView(...)\n",
    "### flopy.modflow.ModflowBas(...)\n",
    "### flopy.modflow.ModflowLpf(...)\n",
    "### flopy.modflow.ModflowOc(...)\n",
    "### flopy.modflow.ModflowPcg(...)\n",
    "### flopy.modflow.mfwel.ModflowWel(...)"
   ]
  },
  {
   "cell_type": "code",
   "execution_count": 29,
   "metadata": {},
   "outputs": [
    {
     "name": "stdout",
     "output_type": "stream",
     "text": [
      "['(Import)flopy.utils.binaryfile', 'flopy.modflow.Modflow(...)', 'flopy.modflow.ModflowBas(...)', 'flopy.modflow.ModflowDis(...)', 'flopy.modflow.ModflowLpf(...)', 'flopy.modflow.ModflowOc(...)', 'flopy.modflow.ModflowPcg(...)', 'flopy.modflow.mfwel.ModflowWel(...)', 'flopy.plot.PlotMapView(...)']\n",
      "\n",
      "9\n"
     ]
    },
    {
     "data": {
      "text/plain": [
       "True"
      ]
     },
     "execution_count": 29,
     "metadata": {},
     "output_type": "execute_result"
    }
   ],
   "source": [
    "HW1 = [\"(Import)flopy.utils.binaryfile\",\"flopy.modflow.Modflow(...)\",\"flopy.modflow.ModflowDis(...)\",\n",
    "       \"flopy.plot.PlotMapView(...)\",\"flopy.modflow.ModflowBas(...)\",\"flopy.modflow.ModflowLpf(...)\",\n",
    "       \"flopy.modflow.ModflowOc(...)\",\"flopy.modflow.ModflowPcg(...)\",\"flopy.modflow.mfwel.ModflowWel(...)\"]\n",
    "\n",
    "sort_HW1 = sorted(HW1)\n",
    "#print (HW1)\n",
    "#print (\"\")\n",
    "print (sort_HW1)\n",
    "print (\"\")\n",
    "print(len(sort_HW1))\n",
    "len(sort_HW1) == 9"
   ]
  },
  {
   "cell_type": "markdown",
   "metadata": {},
   "source": [
    "# HW#2:\n",
    "## Different types of FloPy inputs seen in this assignment:\n",
    "\n",
    "### flopy.modflow.Modflow(...)\n",
    "### flopy.modflow.ModflowDis(...)\n",
    "### flopy.plot.PlotMapView(...)\n",
    "### flopy.modflow.ModflowBas(...)\n",
    "### flopy.modflow.ModflowLpf(...)\n",
    "### flopy.modflow.ModflowWel(...)\n",
    "### flopy.modflow.ModflowOc(...)\n",
    "### flopy.modflow.ModflowPcg(...)\n",
    "### flopy.utils.binaryfile.HeadFile(...)\n",
    "### flopy.utils.binaryfile.CellBudgetFile(...)"
   ]
  },
  {
   "cell_type": "code",
   "execution_count": 30,
   "metadata": {},
   "outputs": [
    {
     "name": "stdout",
     "output_type": "stream",
     "text": [
      "['(flopy.modflow.Modflow(...)', 'flopy.modflow.ModflowBas(...)', 'flopy.modflow.ModflowDis(...)', 'flopy.modflow.ModflowLpf(...)', 'flopy.modflow.ModflowOc(...)', 'flopy.modflow.ModflowPcg(...)', 'flopy.modflow.ModflowWel(...)', 'flopy.plot.PlotMapView(...)', 'flopy.utils.binaryfile.CellBudgetFile(...)', 'flopy.utils.binaryfile.HeadFile(...)']\n",
      "\n",
      "10\n"
     ]
    },
    {
     "data": {
      "text/plain": [
       "True"
      ]
     },
     "execution_count": 30,
     "metadata": {},
     "output_type": "execute_result"
    }
   ],
   "source": [
    "HW2 = [\"(flopy.modflow.Modflow(...)\",\"flopy.modflow.ModflowDis(...)\",\"flopy.plot.PlotMapView(...)\",\n",
    "       \"flopy.modflow.ModflowBas(...)\",\"flopy.modflow.ModflowLpf(...)\",\"flopy.modflow.ModflowWel(...)\",\n",
    "       \"flopy.modflow.ModflowOc(...)\",\"flopy.modflow.ModflowPcg(...)\",\"flopy.utils.binaryfile.HeadFile(...)\",\n",
    "       \"flopy.utils.binaryfile.CellBudgetFile(...)\"]\n",
    "\n",
    "sort_HW2 = sorted(HW2)\n",
    "#print (HW2)\n",
    "#print (\"\")\n",
    "print (sort_HW2)\n",
    "print (\"\")\n",
    "print(len(sort_HW2))\n",
    "len(sort_HW2) == 10"
   ]
  },
  {
   "cell_type": "markdown",
   "metadata": {},
   "source": [
    "# HW#3:\n",
    "## Different types of FloPy inputs seen in this assignment:\n",
    "\n",
    "### (Import)flopy.utils.binaryfile\n",
    "### flopy.modflow.ModflowDis(...)\n",
    "### flopy.modflow.Modflow(...)\n",
    "### flopy.utils.util_array.Util3d\n",
    "### flopy.utils.reference.SpatialReference\n",
    "### flopy.utils.util_array.Util2d\n",
    "### flopy.utils.reference.TemporalReference\n",
    "### flopy.modflow.ModflowLpf(...)\n",
    "### flopy.modflow.ModflowOc(...)\n",
    "### flopy.modflow.ModflowPcg(...)\n",
    "### flopy.modflow.mfrch.ModflowRch(...)\n",
    "### flopy.modflow.ModflowWel(...)\n",
    "### flopy.modpath.ParticleData(...)\n",
    "### flopy.modpath.ParticleGroup(...)\n",
    "### flopy.modpath.CellDataType(...)\n",
    "### flopy.modpath.LRCParticleData(...)\n",
    "### flopy.modpath.ParticleGroupLRCTemplate(...)\n",
    "### flopy.modpath.Modpath7(...)\n",
    "### flopy.modpath.Modpath7Bas(...)\n",
    "### flopy.modpath.Modpath7Sim(...)\n",
    "### flopy.modpath.Modpath7.create_mp7(...)\n",
    "### flopy.utils.PathlineFile(...)\n",
    "### flopy.utils.EndpointFile(...)\n",
    "### flopy.plot.PlotMapView(...)"
   ]
  },
  {
   "cell_type": "code",
   "execution_count": 28,
   "metadata": {},
   "outputs": [
    {
     "name": "stdout",
     "output_type": "stream",
     "text": [
      "['(Import)flopy.utils.binaryfile', 'flopy.modflow.Modflow(...)', 'flopy.modflow.ModflowDis(...)', 'flopy.modflow.ModflowLpf(...)', 'flopy.modflow.ModflowOc(...)', 'flopy.modflow.ModflowPcg(...)', 'flopy.modflow.ModflowWel(...)', 'flopy.modflow.mfrch.ModflowRch(...)', 'flopy.modpath.CellDataType(...)', 'flopy.modpath.LRCParticleData(...)', 'flopy.modpath.Modpath7(...)', 'flopy.modpath.Modpath7.create_mp7(...)', 'flopy.modpath.Modpath7Bas(...)', 'flopy.modpath.Modpath7Sim(...)', 'flopy.modpath.ParticleData(...)', 'flopy.modpath.ParticleGroup(...)', 'flopy.modpath.ParticleGroupLRCTemplate(...)', 'flopy.plot.PlotMapView(...)', 'flopy.utils.EndpointFile(...)', 'flopy.utils.PathlineFile(...)', 'flopy.utils.reference.SpatialReference', 'flopy.utils.reference.TemporalReference', 'flopy.utils.util_array.Util2d', 'flopy.utils.util_array.Util3d']\n",
      "\n",
      "24\n"
     ]
    },
    {
     "data": {
      "text/plain": [
       "True"
      ]
     },
     "execution_count": 28,
     "metadata": {},
     "output_type": "execute_result"
    }
   ],
   "source": [
    "HW3 = [\"(Import)flopy.utils.binaryfile\",\"flopy.modflow.ModflowDis(...)\",\"flopy.modflow.Modflow(...)\",\n",
    "       \"flopy.utils.util_array.Util3d\",\"flopy.utils.reference.SpatialReference\",\"flopy.utils.util_array.Util2d\",\n",
    "       \"flopy.utils.reference.TemporalReference\",\"flopy.modflow.ModflowLpf(...)\",\"flopy.modflow.ModflowOc(...)\",\n",
    "       \"flopy.modflow.ModflowPcg(...)\",\"flopy.modflow.mfrch.ModflowRch(...)\",\"flopy.modflow.ModflowWel(...)\",\n",
    "       \"flopy.modpath.ParticleData(...)\",\"flopy.modpath.ParticleGroup(...)\",\"flopy.modpath.CellDataType(...)\",\n",
    "       \"flopy.modpath.LRCParticleData(...)\",\"flopy.modpath.ParticleGroupLRCTemplate(...)\",\"flopy.modpath.Modpath7(...)\",\n",
    "       \"flopy.modpath.Modpath7Bas(...)\",\"flopy.modpath.Modpath7Sim(...)\",\"flopy.modpath.Modpath7.create_mp7(...)\",\n",
    "       \"flopy.utils.PathlineFile(...)\",\"flopy.utils.EndpointFile(...)\",\"flopy.plot.PlotMapView(...)\"]\n",
    "\n",
    "sort_HW3 = sorted(HW3)\n",
    "#print (HW3)\n",
    "#print (\"\")\n",
    "print (sort_HW3)\n",
    "print (\"\")\n",
    "print(len(sort_HW3))\n",
    "len(sort_HW3) == 24"
   ]
  },
  {
   "cell_type": "markdown",
   "metadata": {},
   "source": [
    "# HW#4:\n",
    "## Different types of FloPy inputs seen in this assignment:\n",
    "\n"
   ]
  },
  {
   "cell_type": "code",
   "execution_count": 27,
   "metadata": {},
   "outputs": [
    {
     "name": "stdout",
     "output_type": "stream",
     "text": [
      "['flopy.modflow.Modflow(...)', 'flopy.modflow.ModflowDis(...)', 'flopy.modflow.ModflowLpf(...)', 'flopy.modflow.ModflowOc(...)', 'flopy.modflow.ModflowPcg(...)', 'flopy.modflow.ModflowWel(...)', 'flopy.modflow.mfrch.ModflowRch(...)', 'flopy.modpath.CellDataType(...)', 'flopy.modpath.LRCParticleData(...)', 'flopy.modpath.Modpath7(...)', 'flopy.modpath.Modpath7.create_mp7(...)', 'flopy.modpath.Modpath7Bas(...)', 'flopy.modpath.Modpath7Sim(...)', 'flopy.modpath.ParticleData(...)', 'flopy.modpath.ParticleGroup(...)', 'flopy.modpath.ParticleGroupLRCTemplate(...)', 'flopy.plot.PlotMapView(...)', 'flopy.utils.EndpointFile(...)', 'flopy.utils.PathlineFile(...)', 'flopy.utils.binaryfile', 'flopy.utils.reference.SpatialReference', 'flopy.utils.reference.TemporalReference', 'flopy.utils.util_array.Util2d', 'flopy.utils.util_array.Util3d']\n",
      "\n",
      "24\n"
     ]
    },
    {
     "data": {
      "text/plain": [
       "True"
      ]
     },
     "execution_count": 27,
     "metadata": {},
     "output_type": "execute_result"
    }
   ],
   "source": [
    "HW4 = [\"flopy.utils.binaryfile\",\"flopy.modflow.ModflowDis(...)\",\"flopy.modflow.Modflow(...)\",\n",
    "       \"flopy.utils.util_array.Util3d\",\"flopy.utils.reference.SpatialReference\",\"flopy.utils.util_array.Util2d\",\n",
    "       \"flopy.utils.reference.TemporalReference\",\"flopy.modflow.ModflowLpf(...)\",\"flopy.modflow.ModflowOc(...)\",\n",
    "       \"flopy.modflow.ModflowPcg(...)\",\"flopy.modflow.mfrch.ModflowRch(...)\",\"flopy.modflow.ModflowWel(...)\",\n",
    "       \"flopy.modpath.ParticleData(...)\",\"flopy.modpath.ParticleGroup(...)\",\"flopy.modpath.CellDataType(...)\",\n",
    "       \"flopy.modpath.LRCParticleData(...)\",\"flopy.modpath.ParticleGroupLRCTemplate(...)\",\"flopy.modpath.Modpath7(...)\",\n",
    "       \"flopy.modpath.Modpath7Bas(...)\",\"flopy.modpath.Modpath7Sim(...)\",\"flopy.modpath.Modpath7.create_mp7(...)\",\n",
    "       \"flopy.utils.PathlineFile(...)\",\"flopy.utils.EndpointFile(...)\",\"flopy.plot.PlotMapView(...)\"]\n",
    "\n",
    "sort_HW4 = sorted(HW4)\n",
    "#print (HW3)\n",
    "#print (\"\")\n",
    "print (sort_HW4)\n",
    "print (\"\")\n",
    "print(len(sort_HW4))\n",
    "len(sort_HW4) == 24"
   ]
  },
  {
   "cell_type": "markdown",
   "metadata": {},
   "source": [
    "# HW#5:\n",
    "## Different types of FloPy inputs seen in this assignment:\n",
    "\n"
   ]
  },
  {
   "cell_type": "code",
   "execution_count": null,
   "metadata": {},
   "outputs": [],
   "source": []
  },
  {
   "cell_type": "markdown",
   "metadata": {},
   "source": [
    "# 2. Helpful Links/Videos:\n",
    "\n",
    "- Webpage Links:\n",
    "    - http://modflowpy.github.io/flopydoc/\n",
    "    - https://modflowpy.github.io/flopydoc/code.html#base-classes\n",
    "    - https://github.com/modflowpy/flopy#citation-for-flopy\n",
    "    - \n",
    "    - \n",
    "\n",
    "- Video Links:\n",
    "    - https://www.youtube.com/watch?v=kqEDaLR9rB0"
   ]
  },
  {
   "cell_type": "markdown",
   "metadata": {},
   "source": [
    "# 3. Cheat Sheet:\n",
    "\n"
   ]
  },
  {
   "cell_type": "code",
   "execution_count": null,
   "metadata": {},
   "outputs": [],
   "source": []
  },
  {
   "cell_type": "markdown",
   "metadata": {},
   "source": [
    "# 4. Data Type:\n",
    "\n"
   ]
  },
  {
   "cell_type": "code",
   "execution_count": null,
   "metadata": {},
   "outputs": [],
   "source": []
  },
  {
   "cell_type": "markdown",
   "metadata": {},
   "source": [
    "# 5. Data Type:"
   ]
  },
  {
   "cell_type": "code",
   "execution_count": null,
   "metadata": {},
   "outputs": [],
   "source": []
  },
  {
   "cell_type": "markdown",
   "metadata": {},
   "source": [
    "FloPy Works Cited\n",
    "-----------------------------------------------\n",
    "\n",
    "##### ***Citation for FloPy:***\n",
    "\n",
    "[Bakker, M., Post, V., Langevin, C. D., Hughes, J. D., White, J. T., Starn, J. J. and Fienen, M. N., 2016, Scripting MODFLOW Model Development Using Python and FloPy: Groundwater, v. 54, p. 733–739, doi:10.1111/gwat.12413.](http://dx.doi.org/10.1111/gwat.12413)\n",
    "\n",
    "##### ***Software/Code citation for FloPy:***\n",
    "\n",
    "[Bakker, M., Post, V., Langevin, C. D., Hughes, J. D., White, J. T., Leaf, A. T., Paulinski, S. R., Larsen, J. D., Toews, M. W., Morway, E. D., Bellino, J. C., Starn, J. J., and Fienen, M. N., 2019, FloPy v3.3.1 &mdash; release candidate: U.S. Geological Survey Software Release, 15 December 2019, http://dx.doi.org/10.5066/F7BK19FH](http://dx.doi.org/10.5066/F7BK19FH)\n",
    "\n",
    "\n",
    "MODFLOW Resources\n",
    "-----------------------------------------------\n",
    "\n",
    "+ [MODFLOW and Related Programs](http://water.usgs.gov/ogw/modflow/)\n",
    "+ [Online guide for MODFLOW-2000](http://water.usgs.gov/nrp/gwsoftware/modflow2000/Guide/index.html)\n",
    "+ [Online guide for MODFLOW-2005](http://water.usgs.gov/ogw/modflow/MODFLOW-2005-Guide/)\n",
    "+ [Online guide for MODFLOW-NWT](http://water.usgs.gov/ogw/modflow-nwt/MODFLOW-NWT-Guide/)\n",
    "\n",
    "\n",
    "Disclaimer\n",
    "-----------------------------------------------\n",
    "\n",
    "This software is preliminary or provisional and is subject to revision. It is being provided to meet the need for timely best science. The software has not received final approval by the U.S. Geological Survey (USGS). No warranty, expressed or implied, is made by the USGS or the U.S. Government as to the functionality of the software and related material nor shall the fact of release constitute any such warranty. The software is provided on the condition that neither the USGS nor the U.S. Government shall be held liable for any damages resulting from the authorized or unauthorized use of the software."
   ]
  },
  {
   "cell_type": "code",
   "execution_count": null,
   "metadata": {},
   "outputs": [],
   "source": []
  }
 ],
 "metadata": {
  "kernelspec": {
   "display_name": "Python 3",
   "language": "python",
   "name": "python3"
  },
  "language_info": {
   "codemirror_mode": {
    "name": "ipython",
    "version": 3
   },
   "file_extension": ".py",
   "mimetype": "text/x-python",
   "name": "python",
   "nbconvert_exporter": "python",
   "pygments_lexer": "ipython3",
   "version": "3.8.1"
  }
 },
 "nbformat": 4,
 "nbformat_minor": 4
}
