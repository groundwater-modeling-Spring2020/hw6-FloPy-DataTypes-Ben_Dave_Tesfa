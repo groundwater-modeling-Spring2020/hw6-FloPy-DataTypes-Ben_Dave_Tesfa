{
 "cells": [
  {
   "cell_type": "markdown",
   "metadata": {},
   "source": [
    "# BenM_ET_Transient_Question1\n",
    "## `Benjamin Mitchell`\n",
    "\n",
    "## Model Description \n",
    "This is a transient box model with recharge and Transient ET\n",
    "\n",
    "#### Dimensions: \n",
    "- 50 by 50 by 1\n",
    "- dx = dy = 100 m\n",
    "- dz = 100 m  \n",
    "\n",
    "#### Subsurface Properties: \n",
    "- Homogeneous \n",
    "- K = 1.0 m/day in x and y and 0.1 m/day in z.  \n",
    "- Porosity = 0.35\n",
    "- Specific yield = 0.3\n",
    "- Storage coefficient=0.001  \n",
    "\n",
    "#### Boundary Conditions: \n",
    " - Right boundary is no flow (i.e. a closed basin) \n",
    " - Left boundary is a constant head of 70 m relative to the datum, which is located at the bottom of the domain. \n",
    " - Recharge occurs at a rate of 1E-4 m/d uniformly across the domain\n",
    " \n",
    "#### ET\n",
    " - Un-irrigated field with ET\n",
    "     - Lower left corner (400,900) Upper Right Corner (1500,1600) (locations given as x,y)\n",
    "     - Extinction depth 100 m\n",
    "     - Two stressperiods: 0 ET for 30 days followed by 1e-3 ET for 335 days repeated for 16 years within the field.\n",
    "     - Outside this field the ET is zero for the entire time period."
   ]
  }
 ],
 "metadata": {
  "kernelspec": {
   "display_name": "Python 3",
   "language": "python",
   "name": "python3"
  },
  "language_info": {
   "codemirror_mode": {
    "name": "ipython",
    "version": 3
   },
   "file_extension": ".py",
   "mimetype": "text/x-python",
   "name": "python",
   "nbconvert_exporter": "python",
   "pygments_lexer": "ipython3",
   "version": "3.8.1"
  }
 },
 "nbformat": 4,
 "nbformat_minor": 4
}
