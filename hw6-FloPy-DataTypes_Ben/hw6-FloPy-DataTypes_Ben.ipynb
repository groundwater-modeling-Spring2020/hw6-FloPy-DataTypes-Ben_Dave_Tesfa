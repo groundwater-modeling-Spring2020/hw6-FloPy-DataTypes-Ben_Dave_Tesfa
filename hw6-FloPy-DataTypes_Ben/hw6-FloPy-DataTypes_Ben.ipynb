{
 "cells": [
  {
   "cell_type": "markdown",
   "metadata": {},
   "source": [
    "# FloPy-DataTypes\n",
    "## `Benjamin Mitchell`\n",
    "\n",
    "## Model Description\n",
    "\n",
    "#### Different types of FloPy we have seen: \n",
    "- ## flopy.utils.binaryfile\n",
    "- flopy.modflow.ModflowDis(m)\n",
    "- flopy.modflow.Modflow()\n",
    "- flopy.utils.util_array.Util3d\n",
    "- flopy.utils.reference.SpatialReference\n",
    "- flopy.utils.util_array.Util2d\n",
    "- flopy.utils.reference.TemporalReference\n",
    "- flopy.plot.PlotMapView\n",
    "- \n",
    "\n",
    "#### Resource Links:\n",
    "https://modflowpy.github.io/flopydoc/code.html#base-classes\n",
    "\n",
    " \n",
    "#### Special Links:\n",
    " - Un-irrigated field with ET\n",
    "     - Lower left corner (400,900) Upper Right Corner (1500,1600) (locations given as x,y)\n",
    "     - Extinction depth 100 m\n",
    "     - Two stressperiods: 0 ET for 30 days followed by 1e-3 ET for 335 days repeated for 16 years within the field.\n",
    "     - Outside this field the ET is zero for the entire time period."
   ]
  },
  {
   "cell_type": "markdown",
   "metadata": {},
   "source": [
    "# HW#1:\n",
    "\n"
   ]
  },
  {
   "cell_type": "markdown",
   "metadata": {},
   "source": [
    "# HW#2:\n",
    "\n"
   ]
  },
  {
   "cell_type": "markdown",
   "metadata": {},
   "source": [
    "# HW#3:\n",
    "\n",
    "## flopy.utils.binaryfile\n",
    "## flopy.modflow.ModflowDis(...)\n",
    "## flopy.modflow.Modflow(...)\n",
    "## flopy.utils.util_array.Util3d\n",
    "## flopy.utils.reference.SpatialReference\n",
    "## flopy.utils.util_array.Util2d\n",
    "## flopy.utils.reference.TemporalReference\n",
    "## flopy.plot.PlotMapView(...)\n",
    "## flopy.modflow.ModflowLpf(...)\n",
    "## flopy.modflow.ModflowOc(...)\n",
    "## flopy.modflow.ModflowPcg(...)\n",
    "## flopy.modflow.mfrch.ModflowRch(...)\n",
    "## flopy.modflow.ModflowWel(...)\n",
    "## flopy.modpath.ParticleData(...)\n",
    "## flopy.modpath.ParticleGroup(...)\n",
    "## flopy.modpath.CellDataType(...)\n",
    "## flopy.modpath.LRCParticleData(...)\n",
    "## flopy.modpath.ParticleGroupLRCTemplate(...)\n",
    "## flopy.modpath.Modpath7(...)\n",
    "## flopy.modpath.Modpath7Bas(...)\n",
    "## flopy.modpath.Modpath7Sim(...)\n",
    "## flopy.modpath.Modpath7.create_mp7(...)\n",
    "## flopy.utils.PathlineFile(...)\n",
    "## \n",
    "## \n",
    "## "
   ]
  },
  {
   "cell_type": "markdown",
   "metadata": {},
   "source": [
    "# HW#4:\n",
    "\n"
   ]
  },
  {
   "cell_type": "markdown",
   "metadata": {},
   "source": [
    "# HW#5:\n",
    "\n"
   ]
  },
  {
   "cell_type": "code",
   "execution_count": null,
   "metadata": {},
   "outputs": [],
   "source": []
  },
  {
   "cell_type": "markdown",
   "metadata": {},
   "source": [
    "##### Citation for FloPy:\n",
    "Bakker, M., Post, V., Langevin, C. D., Hughes, J. D., White, J. T., Starn, J. J. and Fienen, M. N., 2016, Scripting MODFLOW Model Development Using Python and FloPy: Groundwater, v. 54, p. 733–739, doi:10.1111/gwat.12413.\n",
    "\n",
    "##### Software/Code citation for FloPy:\n",
    "Bakker, M., Post, V., Langevin, C. D., Hughes, J. D., White, J. T., Leaf, A. T., Paulinski, S. R., Larsen, J. D., Toews, M. W., Morway, E. D., Bellino, J. C., Starn, J. J., and Fienen, M. N., 2019, FloPy v3.3.1 — release candidate: U.S. Geological Survey Software Release, 15 December 2019, http://dx.doi.org/10.5066/F7BK19FH"
   ]
  },
  {
   "cell_type": "code",
   "execution_count": null,
   "metadata": {},
   "outputs": [],
   "source": []
  }
 ],
 "metadata": {
  "kernelspec": {
   "display_name": "Python 3",
   "language": "python",
   "name": "python3"
  },
  "language_info": {
   "codemirror_mode": {
    "name": "ipython",
    "version": 3
   },
   "file_extension": ".py",
   "mimetype": "text/x-python",
   "name": "python",
   "nbconvert_exporter": "python",
   "pygments_lexer": "ipython3",
   "version": "3.8.1"
  }
 },
 "nbformat": 4,
 "nbformat_minor": 4
}
