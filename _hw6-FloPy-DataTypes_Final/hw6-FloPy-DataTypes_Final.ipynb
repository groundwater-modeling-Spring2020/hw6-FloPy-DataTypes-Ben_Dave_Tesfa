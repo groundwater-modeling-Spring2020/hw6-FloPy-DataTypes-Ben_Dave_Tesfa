{
 "cells": [
  {
   "cell_type": "markdown",
   "metadata": {},
   "source": [
    "# hw6-FloPy-DataTypeExample\n",
    "## By `Benjamin Mitchell`, `Dave Murray`, `Tesfa Gebremeskel`\n",
    "\n",
    "### Assignment:\n",
    "  1. A brief summary of what your thing is and how we should understand it.\n",
    "  2. Links for any tutorials or online explanations you found particularly helpful.\n",
    "  3. A code block with an annotated list of key commands to know when working with your item (basically a quick cheat sheet we can refer back to)\n",
    "  4. Walk through the properties of the item you have been assigned interspersing code and text but try not to make it too long. I’ve provided some lists of questions your explanation should cover but this is not exhaustive so feel free to expand on what you think is useful and organize it however you feel will be most useful to others.\n",
    "  5. An annotated example pulling from our course materials on where this data type gets used in our workflows, how we make it, manipulate it, use it, plot it etc.\n",
    "\n",
    "### Other notes:\n",
    "1.\tOne place to start for resources is the online text book we used at the start of the class: https://runestone.academy/runestone/books/published/thinkcspy/index.html. But also some googling might bring you to better resources for whatever item you are working on.\n",
    "2.\tThis is a team assignment so you should just create one notebook for your group\n",
    "\n",
    "### Data types:\n",
    "#### (4) Flopy data types, head and budget files (Ben, Dave & Tesfa)\n",
    "-\tHow do we read in these files?\n",
    "-\tWhat type of object do we have when we read it in?\n",
    "-\tHow can we learn about the properties and variables associated with these files?\n",
    "-\tWhat are the built in flopy tools for working with these objects?\n",
    "-\tHow do we handle the fact that they have multiple timesteps?\n",
    "-\tHow can we extract data from these files to make plots or write to a file? (thing about both if we want to make a timeseries at a point or if we want to make a graph that is a snapshot of the whole domain at a given time).\n",
    "\n",
    "### All Other Resource Links:\n",
    "- http://modflowpy.github.io/flopydoc/\n",
    "- https://modflowpy.github.io/flopydoc/code.html#base-classes\n",
    "- https://github.com/modflowpy/flopy#citation-for-flopy\n",
    "\n",
    "- [Using MODFLOW in Python with FloPy](https://www.youtube.com/watch?v=kqEDaLR9rB0) (youtube)\n",
    "- [Using MODFLOW in Python with FloPy and GDAL](https://www.youtube.com/watch?v=dxF_6bQnq7g) (youtube)\n",
    "\n",
    "\n",
    "### Different types of FloPy seen through HW's 1-5 (No Repeats):\n",
    "- [(Import)flopy.utils.binaryfile](https://modflowpy.github.io/flopydoc/binaryfile.html)\n",
    "- [flopy.modflow.Modflow(...)](https://modflowpy.github.io/flopydoc/mf.html)\n",
    "- [flopy.modflow.ModflowDis(...)](https://modflowpy.github.io/flopydoc/mfdis.html)\n",
    "- [flopy.plot.PlotMapView(...)](https://modflowpy.github.io/flopydoc/tutorial2.html)\n",
    "- [flopy.modflow.ModflowBas(...)](https://modflowpy.github.io/flopydoc/mfbas.html)\n",
    "- [flopy.modflow.ModflowLpf(...)](https://modflowpy.github.io/flopydoc/mflpf.html)\n",
    "- [flopy.modflow.ModflowOc(...)](https://modflowpy.github.io/flopydoc/mfoc.html)\n",
    "- [flopy.modflow.ModflowPcg(...)](https://modflowpy.github.io/flopydoc/mfpcg.html)\n",
    "- [flopy.modflow.mfwel.ModflowWel(...)](https://modflowpy.github.io/flopydoc/mfwel.html)\n",
    "- [flopy.modflow.ModflowWel(...)](https://modflowpy.github.io/flopydoc/mfwel.html)\n",
    "- [flopy.utils.binaryfile.HeadFile(...)](https://modflowpy.github.io/flopydoc/binaryfile.html)\n",
    "- [flopy.utils.binaryfile.CellBudgetFile(...)](https://modflowpy.github.io/flopydoc/binaryfile.html)\n",
    "- [flopy.utils.util_array.Util3d(...)](https://modflowpy.github.io/flopydoc/util_array.html)\n",
    "- [flopy.utils.reference.SpatialReference(...)](https://modflowpy.github.io/flopydoc/reference.html)\n",
    "- [flopy.utils.util_array.Util2d(...)](https://modflowpy.github.io/flopydoc/util_array.html)\n",
    "- [flopy.utils.reference.TemporalReference(...)](https://modflowpy.github.io/flopydoc/reference.html)\n",
    "- [flopy.modflow.mfrch.ModflowRch(...)](https://modflowpy.github.io/flopydoc/mfrch.html)\n",
    "- [flopy.modpath.ParticleData(...)](https://modflowpy.github.io/flopydoc/mp7particledata.html)\n",
    "- [flopy.modpath.ParticleGroup(...)](https://modflowpy.github.io/flopydoc/mp7particlegroup.html)\n",
    "- [flopy.modpath.CellDataType(...)](https://modflowpy.github.io/flopydoc/mp7particledata.html)\n",
    "- [flopy.modpath.LRCParticleData(...)](https://modflowpy.github.io/flopydoc/mp7particledata.html)\n",
    "- [flopy.modpath.ParticleGroupLRCTemplate(...)](https://modflowpy.github.io/flopydoc/mp7particlegroup.html)\n",
    "- [flopy.modpath.Modpath7(...)](https://modflowpy.github.io/flopydoc/mp7.html)\n",
    "- [flopy.modpath.Modpath7Bas(...)](https://modflowpy.github.io/flopydoc/mp7bas.html)\n",
    "- [flopy.modpath.Modpath7Sim(...)](https://modflowpy.github.io/flopydoc/mp7sim.html)\n",
    "- [flopy.modpath.Modpath7.create_mp7(...)](https://modflowpy.github.io/flopydoc/mp7.html)\n",
    "- [flopy.utils.PathlineFile(...)](https://modflowpy.github.io/flopydoc/modpathfile.html)\n",
    "- [flopy.utils.EndpointFile(...)](https://modflowpy.github.io/flopydoc/modpathfile.html)\n",
    "- [flopy.modflow.mfevt.ModflowEvt(...)](https://modflowpy.github.io/flopydoc/mfevt.html)"
   ]
  },
  {
   "cell_type": "markdown",
   "metadata": {},
   "source": [
    "# 1. Starting Summery\n",
    "\n",
    "**What is FloPy?** It is an system of python code to directly interface with and read the files produced by MODFLOW.  These files include: `.bas`, `.cbc`, `.ddn`, `.dis`, `.hds`, `.list`, `.lpf`, `.nam`, `.oc`, `.pcg`.  The full names of these file types are ***Basic Package Input; cell-by-cell budget; Drawdown File Type; Discretization File; Heads Output; List of Outputs; Layer-Property Flow package; MODFLOW Name File; Output Control Option; Preconditioned Conjugate-Gradient Package***, respectively.\n",
    "\n",
    "**Some of these file types created are easily traced back to the inputs we gave to MODFLOW:**\n",
    "   - dis = flopy.modflow.ModflowDis(...)   results in a `.dis` file\n",
    "   - bas = flopy.modflow.ModflowBas(...)   results in a `.bas` file \n",
    "   - lpf = flopy.modflow.ModflowLpf(...)   results in a `.lpf` file\n",
    "   - oc =  flopy.modflow.ModflowOc(...)    results in a `.oc` file\n",
    "   - pcg = flopy.modflow.ModflowPcg(...)   results in a `.pcg` file\n",
    "   - ect.\n",
    "\n",
    "Along with some other inputs, the five inputs above are needed for the most basic of MODFLOW analysis.  Here is the boil down for these files.  The `.dis` defines your model's domain.  The `.bas` file defines boundaries for your model's domain (no flow, constant head, ect.).  The `.lpf` file defines the properties of your model, stuff like vertical and horizontal hydraulic conductivity.  The `.oc` are for dealing with writing outputs and `.pcg` is a package that helps write properties to the model's domain along with other inputs.\n",
    "\n",
    "Some of the outputs files worth mentioning would be `.hds` and `.cbc`.  The `.hds` file is the resulting heads of running your MODFLOW model and the `.cbc` file contains the cell-by-cell water budget that was solved to get the final heads found in the `.hds` file.  These are explained in greater detail, with examples, later in this notebook."
   ]
  },
  {
   "cell_type": "markdown",
   "metadata": {},
   "source": [
    "# 2. Helpful Links/Videos\n",
    "\n",
    "- Webpage Links:\n",
    "    - http://modflowpy.github.io/flopydoc/\n",
    "    - https://modflowpy.github.io/flopydoc/code.html#base-classes\n",
    "    - https://github.com/modflowpy/flopy#citation-for-flopy\n",
    "    \n",
    "\n",
    "- Video Links:\n",
    "    - [Using MODFLOW in Python with FloPy](https://www.youtube.com/watch?v=kqEDaLR9rB0) (youtube)\n",
    "    - [Using MODFLOW in Python with FloPy and GDAL](https://www.youtube.com/watch?v=dxF_6bQnq7g) (youtube)\n",
    "\n",
    "\n",
    "# 3. Cheat Sheet Links from all HW's"
   ]
  },
  {
   "cell_type": "markdown",
   "metadata": {},
   "source": [
    "### HW#1:\n",
    "### Different types of FloPy inputs seen in this assignment:\n",
    "\n",
    "#### [(Import)flopy.utils.binaryfile](https://modflowpy.github.io/flopydoc/binaryfile.html)\n",
    "#### [flopy.modflow.Modflow(...)](https://modflowpy.github.io/flopydoc/mf.html)\n",
    "#### [flopy.modflow.ModflowDis(...)](https://modflowpy.github.io/flopydoc/mfdis.html)\n",
    "#### [flopy.plot.PlotMapView(...)](https://modflowpy.github.io/flopydoc/tutorial2.html)\n",
    "#### [flopy.modflow.ModflowBas(...)](https://modflowpy.github.io/flopydoc/mfbas.html)\n",
    "#### [flopy.modflow.ModflowLpf(...)](https://modflowpy.github.io/flopydoc/mflpf.html)\n",
    "#### [flopy.modflow.ModflowOc(...)](https://modflowpy.github.io/flopydoc/mfoc.html)\n",
    "#### [flopy.modflow.ModflowPcg(...)](https://modflowpy.github.io/flopydoc/mfpcg.html)\n",
    "#### [flopy.modflow.mfwel.ModflowWel(...)](https://modflowpy.github.io/flopydoc/mfwel.html)"
   ]
  },
  {
   "cell_type": "code",
   "execution_count": 19,
   "metadata": {},
   "outputs": [
    {
     "name": "stdout",
     "output_type": "stream",
     "text": [
      "['(Import)flopy.utils.binaryfile', 'flopy.modflow.Modflow(...)', 'flopy.modflow.ModflowBas(...)', 'flopy.modflow.ModflowDis(...)', 'flopy.modflow.ModflowLpf(...)', 'flopy.modflow.ModflowOc(...)', 'flopy.modflow.ModflowPcg(...)', 'flopy.modflow.mfwel.ModflowWel(...)', 'flopy.plot.PlotMapView(...)']\n",
      "\n",
      "9\n"
     ]
    },
    {
     "data": {
      "text/plain": [
       "True"
      ]
     },
     "execution_count": 19,
     "metadata": {},
     "output_type": "execute_result"
    }
   ],
   "source": [
    "HW1 = [\"(Import)flopy.utils.binaryfile\",\"flopy.modflow.Modflow(...)\",\"flopy.modflow.ModflowDis(...)\",\n",
    "       \"flopy.plot.PlotMapView(...)\",\"flopy.modflow.ModflowBas(...)\",\"flopy.modflow.ModflowLpf(...)\",\n",
    "       \"flopy.modflow.ModflowOc(...)\",\"flopy.modflow.ModflowPcg(...)\",\"flopy.modflow.mfwel.ModflowWel(...)\"]\n",
    "\n",
    "sort_HW1 = sorted(HW1)\n",
    "#print (HW1)\n",
    "#print (\"\")\n",
    "print (sort_HW1)\n",
    "print (\"\")\n",
    "print(len(sort_HW1))\n",
    "len(sort_HW1) == 9"
   ]
  },
  {
   "cell_type": "markdown",
   "metadata": {},
   "source": [
    "### HW#2:\n",
    "### Different types of FloPy inputs seen in this assignment:\n",
    "\n",
    "#### [flopy.modflow.Modflow(...)](https://modflowpy.github.io/flopydoc/mf.html)\n",
    "#### [flopy.modflow.ModflowDis(...)](https://modflowpy.github.io/flopydoc/mfdis.html)\n",
    "#### [flopy.plot.PlotMapView(...)](https://modflowpy.github.io/flopydoc/tutorial2.html)\n",
    "#### [flopy.modflow.ModflowBas(...)](https://modflowpy.github.io/flopydoc/mfbas.html)\n",
    "#### [flopy.modflow.ModflowLpf(...)](https://modflowpy.github.io/flopydoc/mflpf.html)\n",
    "#### [flopy.modflow.ModflowWel(...)](https://modflowpy.github.io/flopydoc/mfwel.html)\n",
    "#### [flopy.modflow.ModflowOc(...)](https://modflowpy.github.io/flopydoc/mfoc.html)\n",
    "#### [flopy.modflow.ModflowPcg(...)](https://modflowpy.github.io/flopydoc/mfpcg.html)\n",
    "#### [flopy.utils.binaryfile.HeadFile(...)](https://modflowpy.github.io/flopydoc/binaryfile.html)\n",
    "#### [flopy.utils.binaryfile.CellBudgetFile(...)](https://modflowpy.github.io/flopydoc/binaryfile.html)"
   ]
  },
  {
   "cell_type": "code",
   "execution_count": 20,
   "metadata": {},
   "outputs": [
    {
     "name": "stdout",
     "output_type": "stream",
     "text": [
      "['(flopy.modflow.Modflow(...)', 'flopy.modflow.ModflowBas(...)', 'flopy.modflow.ModflowDis(...)', 'flopy.modflow.ModflowLpf(...)', 'flopy.modflow.ModflowOc(...)', 'flopy.modflow.ModflowPcg(...)', 'flopy.modflow.ModflowWel(...)', 'flopy.plot.PlotMapView(...)', 'flopy.utils.binaryfile.CellBudgetFile(...)', 'flopy.utils.binaryfile.HeadFile(...)']\n",
      "\n",
      "10\n"
     ]
    },
    {
     "data": {
      "text/plain": [
       "True"
      ]
     },
     "execution_count": 20,
     "metadata": {},
     "output_type": "execute_result"
    }
   ],
   "source": [
    "HW2 = [\"(flopy.modflow.Modflow(...)\",\"flopy.modflow.ModflowDis(...)\",\"flopy.plot.PlotMapView(...)\",\n",
    "       \"flopy.modflow.ModflowBas(...)\",\"flopy.modflow.ModflowLpf(...)\",\"flopy.modflow.ModflowWel(...)\",\n",
    "       \"flopy.modflow.ModflowOc(...)\",\"flopy.modflow.ModflowPcg(...)\",\"flopy.utils.binaryfile.HeadFile(...)\",\n",
    "       \"flopy.utils.binaryfile.CellBudgetFile(...)\"]\n",
    "\n",
    "sort_HW2 = sorted(HW2)\n",
    "#print (HW2)\n",
    "#print (\"\")\n",
    "print (sort_HW2)\n",
    "print (\"\")\n",
    "print(len(sort_HW2))\n",
    "len(sort_HW2) == 10"
   ]
  },
  {
   "cell_type": "markdown",
   "metadata": {},
   "source": [
    "### HW#3:\n",
    "### Different types of FloPy inputs seen in this assignment:\n",
    "\n",
    "#### [(Import)flopy.utils.binaryfile](https://modflowpy.github.io/flopydoc/binaryfile.html)\n",
    "#### [flopy.modflow.ModflowDis(...)](https://modflowpy.github.io/flopydoc/mfdis.html)\n",
    "#### [flopy.modflow.Modflow(...)](https://modflowpy.github.io/flopydoc/mf.html)\n",
    "#### [flopy.utils.util_array.Util3d(...)](https://modflowpy.github.io/flopydoc/util_array.html)\n",
    "#### [flopy.utils.reference.SpatialReference(...)](https://modflowpy.github.io/flopydoc/reference.html)\n",
    "#### [flopy.utils.util_array.Util2d(...)](https://modflowpy.github.io/flopydoc/util_array.html)\n",
    "#### [flopy.utils.reference.TemporalReference(...)](https://modflowpy.github.io/flopydoc/reference.html)\n",
    "#### [flopy.modflow.ModflowLpf(...)](https://modflowpy.github.io/flopydoc/mflpf.html)\n",
    "#### [flopy.modflow.ModflowOc(...)](https://modflowpy.github.io/flopydoc/mfoc.html)\n",
    "#### [flopy.modflow.ModflowPcg(...)](https://modflowpy.github.io/flopydoc/mfpcg.html)\n",
    "#### [flopy.modflow.mfrch.ModflowRch(...)](https://modflowpy.github.io/flopydoc/mfrch.html)\n",
    "#### [flopy.modflow.ModflowWel(...)](https://modflowpy.github.io/flopydoc/mfwel.html)\n",
    "#### [flopy.modpath.ParticleData(...)](https://modflowpy.github.io/flopydoc/mp7particledata.html)\n",
    "#### [flopy.modpath.ParticleGroup(...)](https://modflowpy.github.io/flopydoc/mp7particlegroup.html)\n",
    "#### [flopy.modpath.CellDataType(...)](https://modflowpy.github.io/flopydoc/mp7particledata.html)\n",
    "#### [flopy.modpath.LRCParticleData(...)](https://modflowpy.github.io/flopydoc/mp7particledata.html)\n",
    "#### [flopy.modpath.ParticleGroupLRCTemplate(...)](https://modflowpy.github.io/flopydoc/mp7particlegroup.html)\n",
    "#### [flopy.modpath.Modpath7(...)](https://modflowpy.github.io/flopydoc/mp7.html)\n",
    "#### [flopy.modpath.Modpath7Bas(...)](https://modflowpy.github.io/flopydoc/mp7bas.html)\n",
    "#### [flopy.modpath.Modpath7Sim(...)](https://modflowpy.github.io/flopydoc/mp7sim.html)\n",
    "#### [flopy.modpath.Modpath7.create_mp7(...)](https://modflowpy.github.io/flopydoc/mp7.html)\n",
    "#### [flopy.utils.PathlineFile(...)](https://modflowpy.github.io/flopydoc/modpathfile.html)\n",
    "#### [flopy.utils.EndpointFile(...)](https://modflowpy.github.io/flopydoc/modpathfile.html)\n",
    "#### [flopy.plot.PlotMapView(...)](https://modflowpy.github.io/flopydoc/tutorial2.html)"
   ]
  },
  {
   "cell_type": "code",
   "execution_count": 21,
   "metadata": {},
   "outputs": [
    {
     "name": "stdout",
     "output_type": "stream",
     "text": [
      "['(Import)flopy.utils.binaryfile', 'flopy.modflow.Modflow(...)', 'flopy.modflow.ModflowDis(...)', 'flopy.modflow.ModflowLpf(...)', 'flopy.modflow.ModflowOc(...)', 'flopy.modflow.ModflowPcg(...)', 'flopy.modflow.ModflowWel(...)', 'flopy.modflow.mfrch.ModflowRch(...)', 'flopy.modpath.CellDataType(...)', 'flopy.modpath.LRCParticleData(...)', 'flopy.modpath.Modpath7(...)', 'flopy.modpath.Modpath7.create_mp7(...)', 'flopy.modpath.Modpath7Bas(...)', 'flopy.modpath.Modpath7Sim(...)', 'flopy.modpath.ParticleData(...)', 'flopy.modpath.ParticleGroup(...)', 'flopy.modpath.ParticleGroupLRCTemplate(...)', 'flopy.plot.PlotMapView(...)', 'flopy.utils.EndpointFile(...)', 'flopy.utils.PathlineFile(...)', 'flopy.utils.reference.SpatialReference', 'flopy.utils.reference.TemporalReference', 'flopy.utils.util_array.Util2d', 'flopy.utils.util_array.Util3d']\n",
      "\n",
      "24\n"
     ]
    },
    {
     "data": {
      "text/plain": [
       "True"
      ]
     },
     "execution_count": 21,
     "metadata": {},
     "output_type": "execute_result"
    }
   ],
   "source": [
    "HW3 = [\"(Import)flopy.utils.binaryfile\",\"flopy.modflow.ModflowDis(...)\",\"flopy.modflow.Modflow(...)\",\n",
    "       \"flopy.utils.util_array.Util3d\",\"flopy.utils.reference.SpatialReference\",\"flopy.utils.util_array.Util2d\",\n",
    "       \"flopy.utils.reference.TemporalReference\",\"flopy.modflow.ModflowLpf(...)\",\"flopy.modflow.ModflowOc(...)\",\n",
    "       \"flopy.modflow.ModflowPcg(...)\",\"flopy.modflow.mfrch.ModflowRch(...)\",\"flopy.modflow.ModflowWel(...)\",\n",
    "       \"flopy.modpath.ParticleData(...)\",\"flopy.modpath.ParticleGroup(...)\",\"flopy.modpath.CellDataType(...)\",\n",
    "       \"flopy.modpath.LRCParticleData(...)\",\"flopy.modpath.ParticleGroupLRCTemplate(...)\",\"flopy.modpath.Modpath7(...)\",\n",
    "       \"flopy.modpath.Modpath7Bas(...)\",\"flopy.modpath.Modpath7Sim(...)\",\"flopy.modpath.Modpath7.create_mp7(...)\",\n",
    "       \"flopy.utils.PathlineFile(...)\",\"flopy.utils.EndpointFile(...)\",\"flopy.plot.PlotMapView(...)\"]\n",
    "\n",
    "sort_HW3 = sorted(HW3)\n",
    "#print (HW3)\n",
    "#print (\"\")\n",
    "print (sort_HW3)\n",
    "print (\"\")\n",
    "print(len(sort_HW3))\n",
    "len(sort_HW3) == 24"
   ]
  },
  {
   "cell_type": "markdown",
   "metadata": {},
   "source": [
    "### HW#4:\n",
    "### Different types of FloPy inputs seen in this assignment:\n",
    "\n",
    "#### [(Import)flopy.utils.binaryfile](https://modflowpy.github.io/flopydoc/binaryfile.html)\n",
    "#### [flopy.modflow.Modflow(...)](https://modflowpy.github.io/flopydoc/mf.html)\n",
    "#### [flopy.modflow.ModflowDis(...)](https://modflowpy.github.io/flopydoc/mfdis.html)\n",
    "#### [flopy.modflow.ModflowBas(...)](https://modflowpy.github.io/flopydoc/mfbas.html)\n",
    "#### [flopy.modflow.ModflowLpf(...)](https://modflowpy.github.io/flopydoc/mflpf.html)\n",
    "#### [flopy.modflow.mfrch.ModflowRch(...)](https://modflowpy.github.io/flopydoc/mfrch.html)\n",
    "#### [flopy.modflow.mfevt.ModflowEvt(...)](https://modflowpy.github.io/flopydoc/mfevt.html)\n",
    "#### [flopy.modflow.ModflowOc(...)](https://modflowpy.github.io/flopydoc/mfoc.html)\n",
    "#### [flopy.modflow.ModflowPcg(...)](https://modflowpy.github.io/flopydoc/mfpcg.html)\n",
    "#### [flopy.modpath.CellDataType(...)](https://modflowpy.github.io/flopydoc/mp7particledata.html)\n",
    "#### [flopy.modpath.LRCParticleData(...)](https://modflowpy.github.io/flopydoc/mp7particledata.html)\n",
    "#### [flopy.modpath.ParticleGroupLRCTemplate(...)](https://modflowpy.github.io/flopydoc/mp7particlegroup.html)\n",
    "#### [flopy.modpath.Modpath7(...)](https://modflowpy.github.io/flopydoc/mp7.html)\n",
    "#### [flopy.modpath.Modpath7Bas(...)](https://modflowpy.github.io/flopydoc/mp7bas.html)\n",
    "#### [flopy.modpath.Modpath7Sim(...)](https://modflowpy.github.io/flopydoc/mp7sim.html)\n",
    "#### [flopy.utils.PathlineFile(...)](https://modflowpy.github.io/flopydoc/modpathfile.html)\n",
    "#### [flopy.utils.EndpointFile(...)](https://modflowpy.github.io/flopydoc/modpathfile.html)\n",
    "#### [flopy.plot.PlotMapView(...)](https://modflowpy.github.io/flopydoc/tutorial2.html)"
   ]
  },
  {
   "cell_type": "code",
   "execution_count": 22,
   "metadata": {},
   "outputs": [
    {
     "name": "stdout",
     "output_type": "stream",
     "text": [
      "['(Import)flopy.utils.binaryfile', 'flopy.modflow.Modflow(...)', 'flopy.modflow.ModflowBas(...)', 'flopy.modflow.ModflowDis(...)', 'flopy.modflow.ModflowLpf(...)', 'flopy.modflow.ModflowOc(...)', 'flopy.modflow.ModflowPcg(...)', 'flopy.modflow.mfevt.ModflowEvt(...)', 'flopy.modflow.mfrch.ModflowRch(...)', 'flopy.modpath.CellDataType(...)', 'flopy.modpath.LRCParticleData(...)', 'flopy.modpath.Modpath7(...)', 'flopy.modpath.Modpath7Bas(...)', 'flopy.modpath.Modpath7Sim(...)', 'flopy.modpath.ParticleGroupLRCTemplate(...)', 'flopy.plot.PlotMapView(...)', 'flopy.utils.EndpointFile(...)', 'flopy.utils.PathlineFile(...)']\n",
      "\n",
      "18\n"
     ]
    },
    {
     "data": {
      "text/plain": [
       "True"
      ]
     },
     "execution_count": 22,
     "metadata": {},
     "output_type": "execute_result"
    }
   ],
   "source": [
    "HW4 = [\"(Import)flopy.utils.binaryfile\",\"flopy.modflow.Modflow(...)\",\"flopy.modflow.ModflowDis(...)\",\n",
    "       \"flopy.modflow.ModflowBas(...)\",\"flopy.modflow.ModflowLpf(...)\",\"flopy.modflow.mfrch.ModflowRch(...)\",\n",
    "       \"flopy.modflow.mfevt.ModflowEvt(...)\",\"flopy.modflow.ModflowOc(...)\",\"flopy.modflow.ModflowPcg(...)\",\n",
    "       \"flopy.modpath.CellDataType(...)\",\"flopy.modpath.LRCParticleData(...)\",\"flopy.modpath.ParticleGroupLRCTemplate(...)\",\n",
    "       \"flopy.modpath.Modpath7(...)\",\"flopy.modpath.Modpath7Bas(...)\",\"flopy.modpath.Modpath7Sim(...)\",\n",
    "       \"flopy.utils.PathlineFile(...)\",\"flopy.utils.EndpointFile(...)\",\"flopy.plot.PlotMapView(...)\"]\n",
    "\n",
    "sort_HW4 = sorted(HW4)\n",
    "#print (HW4)\n",
    "#print (\"\")\n",
    "print (sort_HW4)\n",
    "print (\"\")\n",
    "print(len(sort_HW4))\n",
    "len(sort_HW4) == 18"
   ]
  },
  {
   "cell_type": "markdown",
   "metadata": {},
   "source": [
    "### HW#5:\n",
    "### Different types of FloPy inputs seen in this assignment:\n",
    "\n",
    "#### [(Import)flopy.utils.binaryfile](https://modflowpy.github.io/flopydoc/binaryfile.html)\n",
    "#### [flopy.modflow.Modflow(...)](https://modflowpy.github.io/flopydoc/mf.html)\n",
    "#### [flopy.modflow.ModflowDis(...)](https://modflowpy.github.io/flopydoc/mfdis.html)\n",
    "#### [flopy.modflow.ModflowBas(...)](https://modflowpy.github.io/flopydoc/mfbas.html)\n",
    "#### [flopy.modflow.ModflowLpf(...)](https://modflowpy.github.io/flopydoc/mflpf.html)\n",
    "#### [flopy.modflow.mfrch.ModflowRch(...)](https://modflowpy.github.io/flopydoc/mfrch.html)\n",
    "#### [flopy.modflow.mfevt.ModflowEvt(...)](https://modflowpy.github.io/flopydoc/mfevt.html)\n",
    "#### [flopy.modflow.ModflowOc(...)](https://modflowpy.github.io/flopydoc/mfoc.html)\n",
    "#### [flopy.modflow.ModflowPcg(...)](https://modflowpy.github.io/flopydoc/mfpcg.html)\n",
    "#### [flopy.utils.binaryfile.HeadFile(...)](https://modflowpy.github.io/flopydoc/binaryfile.html)\n",
    "#### [flopy.utils.binaryfile.CellBudgetFile(...)](https://modflowpy.github.io/flopydoc/binaryfile.html)\n",
    "#### [flopy.plot.PlotMapView(...)](https://modflowpy.github.io/flopydoc/tutorial2.html)"
   ]
  },
  {
   "cell_type": "code",
   "execution_count": 23,
   "metadata": {
    "scrolled": true
   },
   "outputs": [
    {
     "name": "stdout",
     "output_type": "stream",
     "text": [
      "['(Import)flopy.utils.binaryfile', 'flopy.modflow.Modflow(...)', 'flopy.modflow.ModflowBas(...)', 'flopy.modflow.ModflowDis(...)', 'flopy.modflow.ModflowLpf(...)', 'flopy.modflow.ModflowOc(...)', 'flopy.modflow.ModflowPcg(...)', 'flopy.modflow.mfevt.ModflowEvt(...)', 'flopy.modflow.mfrch.ModflowRch(...)', 'flopy.plot.PlotMapView(...)', 'flopy.utils.binaryfile.CellBudgetFile(...)', 'flopy.utils.binaryfile.HeadFile(...)']\n",
      "\n",
      "12\n"
     ]
    },
    {
     "data": {
      "text/plain": [
       "True"
      ]
     },
     "execution_count": 23,
     "metadata": {},
     "output_type": "execute_result"
    }
   ],
   "source": [
    "HW5 = [\"(Import)flopy.utils.binaryfile\",\"flopy.modflow.Modflow(...)\",\"flopy.modflow.ModflowDis(...)\",\n",
    "       \"flopy.modflow.ModflowBas(...)\",\"flopy.modflow.ModflowLpf(...)\",\"flopy.modflow.mfrch.ModflowRch(...)\",\n",
    "       \"flopy.modflow.mfevt.ModflowEvt(...)\",\"flopy.modflow.ModflowOc(...)\",\"flopy.modflow.ModflowPcg(...)\",\n",
    "       \"flopy.utils.binaryfile.HeadFile(...)\",\"flopy.utils.binaryfile.CellBudgetFile(...)\",\"flopy.plot.PlotMapView(...)\"]\n",
    "\n",
    "sort_HW5 = sorted(HW5)\n",
    "#print (HW5)\n",
    "#print (\"\")\n",
    "print (sort_HW5)\n",
    "print (\"\")\n",
    "print(len(sort_HW5))\n",
    "len(sort_HW5) == 12"
   ]
  },
  {
   "cell_type": "markdown",
   "metadata": {},
   "source": [
    "# 4. Data Type Questions & \n",
    "\n",
    "-\tHow do we read in these files?\n",
    "-\tWhat type of object do we have when we read it in?\n",
    "-\tHow can we learn about the properties and variables associated with these files?\n",
    "-\tWhat are the built in flopy tools for working with these objects?\n",
    "-\tHow do we handle the fact that they have multiple timesteps?\n",
    "-\tHow can we extract data from these files to make plots or write to a file? (thing about both if we want to make a timeseries at a point or if we want to make a graph that is a snapshot of the whole domain at a given time).\n",
    "\n",
    "# 5. Annotated Examples"
   ]
  },
  {
   "cell_type": "markdown",
   "metadata": {},
   "source": [
    "## Flopy data types, head and budget files\n",
    "\n",
    "In order to access the binary data outputs created by MODFLOW, flopy uses [utility modules](https://modflowpy.github.io/flopydoc/binaryfile.html).\n",
    "\n",
    "The class *flopy.utils.binaryfile.HeadFile* creates a Headfile object with mutliple functions to view and retrieve the data. To confuse us more, the flopy resource describes it as \"a record array consisting of headers, which are record arrays of the modflow header information (kstp, kper, pertim, totim, text, nrow, ncol, ilay)\"\n",
    "\n",
    "### HeadFile - for steady state models\n",
    "In steady state there is one time so there is only one set of head values so *get_alldata()* function is the easisest way to retrieve them, but using *get_data()* can reduce the dimensions of the array."
   ]
  },
  {
   "cell_type": "code",
   "execution_count": 24,
   "metadata": {},
   "outputs": [
    {
     "name": "stdout",
     "output_type": "stream",
     "text": [
      "[7.        7.1414423 7.280136  7.4162354 7.5498815 7.6812015 7.810313\n",
      " 7.9373245 8.062335  8.185435  8.306711  8.426242  8.5441    8.660355\n",
      " 8.775068  8.888301  9.00011   9.110545  9.219659  9.327496  9.4341\n",
      " 9.539513  9.643773  9.746919  9.848984 ]\n",
      "[7.        7.1414423 7.280136  7.4162354 7.5498815 7.6812015 7.810313\n",
      " 7.9373245 8.062335  8.185435  8.306711  8.426242  8.5441    8.660355\n",
      " 8.775068  8.888301  9.00011   9.110545  9.219659  9.327496  9.4341\n",
      " 9.539513  9.643773  9.746919  9.848984 ]\n"
     ]
    }
   ],
   "source": [
    "import flopy\n",
    "import numpy as np\n",
    "\n",
    "headobj = flopy.utils.binaryfile.HeadFile('Box_Model.hds') #Get head values for simple steady state model\n",
    "#headobj.list_records() #shows records that are available\n",
    "h = headobj.get_alldata() #Creates an array (ntimes, nlay, nrow, ncol)\n",
    "h2 = headobj.get_data(totim=1, mflay=0) #Creates array (nrow, ncol)\n",
    "print (h[0,0,0,:]) #print heads for 1st row, all columns\n",
    "print (h2[0,:]) #print heads for 1st row, all columns"
   ]
  },
  {
   "cell_type": "markdown",
   "metadata": {},
   "source": [
    "### Head file for different times\n",
    "Instead of *get_alldata()*, we can use *get_data()* and specify the simulation time or timestep and period (list) to get the heads for that specific parameter."
   ]
  },
  {
   "cell_type": "code",
   "execution_count": 25,
   "metadata": {},
   "outputs": [],
   "source": [
    "# read in the heads\n",
    "headobj = flopy.utils.binaryfile.HeadFile('ET_Model_CheckET2.hds')\n",
    "\n",
    "#headobj.list_records()\n",
    "\n",
    "#get data for specified simulation time\n",
    "h = headobj.get_data(totim=100) #get data for specified simulation time\n",
    "#print(h)\n",
    "\n",
    "#NOTE: Can be helpful to get all the times in the head file using get_times()\n",
    "t = headobj.get_times()\n",
    "\n",
    "#get data for a specific timestep and stressperiod(kstp, kper)\n",
    "kstpkper = headobj.get_kstpkper()  \n",
    "\n",
    "#print(kstpkper)\n",
    "\n",
    "#Find the heads across the domain for a given timestep and stress period\n",
    "h = headobj.get_data(kstpkper = (1,1))\n",
    "#print(h)"
   ]
  },
  {
   "cell_type": "markdown",
   "metadata": {},
   "source": [
    "### Head File - time series\n",
    "Use the *get_ts()* function to retrieve head values for a cell - input for single cell as a tuple of (nlay, nrow, ncol), or list of tuples (for multiple cells)"
   ]
  },
  {
   "cell_type": "code",
   "execution_count": 26,
   "metadata": {},
   "outputs": [],
   "source": [
    "#Timeseries\n",
    "cell = (0,0,0) #single cell nlay, nrow, ncol \n",
    "ts = headobj.get_ts(cell) #returns an array (timestep, head value)\n",
    "#print(ts)\n",
    "\n",
    "cells = [(0,0,0), (0,1,1)] #list of tuples for two cells\n",
    "ts = headobj.get_ts(cells) #returns an array (timestep, head value for cell 1, head value for cell 2)\n",
    "\n",
    "#print(ts)"
   ]
  },
  {
   "cell_type": "markdown",
   "metadata": {},
   "source": [
    "### Sticking to your Budget\n",
    "Flopy has the class *flopy.utils.binaryfile.CellBudgetFile()* to create objects with data for to calculate the water budget at each cell.This imports the data from the \".cbc\" file."
   ]
  },
  {
   "cell_type": "code",
   "execution_count": 27,
   "metadata": {},
   "outputs": [
    {
     "name": "stdout",
     "output_type": "stream",
     "text": [
      "[b'   CONSTANT HEAD', b'FLOW RIGHT FACE ', b'FLOW FRONT FACE ', b'              ET', b'        RECHARGE']\n",
      "-0.74454135\n",
      "1.0\n",
      "-1789.3469\n",
      "2450.0\n"
     ]
    }
   ],
   "source": [
    "#create the budjet object from the data in the cbc file\n",
    "budgobj = flopy.utils.binaryfile.CellBudgetFile('ET_Model_CheckET.cbc')\n",
    "\n",
    "recnames = budgobj.get_unique_record_names() #Find all the unique records that occur in the model output\n",
    "print(recnames)\n",
    "\n",
    "et = budgobj.get_data(text='ET', totim=1.0) #returns an array of records with text identifier of ET in format (idx, nlay, nrow, ncol)\n",
    "recharge = budgobj.get_data(text='RECHARGE', totim=1.0) #returns an array of flow rates for front face of cells \n",
    "print(et[0][1][30][49]) #print ET FLux at cell from idx = 0, nlay = 1, nrow = 1, ncol = 49\n",
    "print(recharge[0][1][0][49]) #print recharge Flux for same cell\n",
    "\n",
    "#Sum all ET and Recharge Cells (from HW4)\n",
    "print(np.sum(et[0][1]))\n",
    "print(np.sum(recharge[0][1]))"
   ]
  },
  {
   "cell_type": "markdown",
   "metadata": {},
   "source": [
    "### Budget File - multiple times\n",
    "Just like the headfile, we can pull heads for different times (or timestep and stressperiod List) or a time series for a cell. In addition to the time or cell location we need to identify the record name (ET, Recharge, etc)"
   ]
  },
  {
   "cell_type": "code",
   "execution_count": 28,
   "metadata": {},
   "outputs": [
    {
     "name": "stdout",
     "output_type": "stream",
     "text": [
      "[[ 0.         -0.70188504 -0.70372266 ... -0.7444384  -0.7445071\n",
      "  -0.74454135]\n",
      " [ 0.         -0.70188504 -0.70372266 ... -0.7444384  -0.7445071\n",
      "  -0.74454135]\n",
      " [ 0.         -0.70188504 -0.70372266 ... -0.7444384  -0.7445071\n",
      "  -0.74454135]\n",
      " ...\n",
      " [ 0.         -0.70188504 -0.70372266 ... -0.7444384  -0.7445071\n",
      "  -0.74454135]\n",
      " [ 0.         -0.70188504 -0.70372266 ... -0.7444384  -0.7445071\n",
      "  -0.74454135]\n",
      " [ 0.         -0.70188504 -0.70372266 ... -0.7444384  -0.7445071\n",
      "  -0.74454135]]\n",
      "[[1. 0.]]\n",
      "[[ 1.          0.         -0.70188504]]\n"
     ]
    }
   ],
   "source": [
    "#Find the flux across the domain for a given timestep and stress period\n",
    "et = budgobj.get_data(kstpkper = (0,0), text='ET')\n",
    "print(et[0][1])\n",
    "\n",
    "\n",
    "#Timeseries\n",
    "cell = (0,0,0) #single cell nlay, nrow, ncol \n",
    "ts = budgobj.get_ts(idx=cell, text='ET') #returns an array (timestep, ETflux)\n",
    "print(ts)\n",
    "\n",
    "cells = [(0,0,0), (0,1,1)] #list of tuples for two cells\n",
    "ts = budgobj.get_ts(idx=cells, text='ET') #returns an array (timestep, ET flux for cell 1, ET flux for cell 2)\n",
    "\n",
    "print(ts)"
   ]
  },
  {
   "cell_type": "markdown",
   "metadata": {},
   "source": [
    "### Ploting your Data for Readability\n",
    "One flopy function worth mentioning is the *flopy.plot.PlotMapView()*. This is flopy's way of reading outputs and graphically representing the file types above."
   ]
  },
  {
   "cell_type": "markdown",
   "metadata": {},
   "source": [
    "FloPy Works Cited\n",
    "-----------------------------------------------\n",
    "\n",
    "##### ***Citation for FloPy:***\n",
    "\n",
    "[Bakker, M., Post, V., Langevin, C. D., Hughes, J. D., White, J. T., Starn, J. J. and Fienen, M. N., 2016, Scripting MODFLOW Model Development Using Python and FloPy: Groundwater, v. 54, p. 733–739, doi:10.1111/gwat.12413.](http://dx.doi.org/10.1111/gwat.12413)\n",
    "\n",
    "##### ***Software/Code citation for FloPy:***\n",
    "\n",
    "[Bakker, M., Post, V., Langevin, C. D., Hughes, J. D., White, J. T., Leaf, A. T., Paulinski, S. R., Larsen, J. D., Toews, M. W., Morway, E. D., Bellino, J. C., Starn, J. J., and Fienen, M. N., 2019, FloPy v3.3.1 &mdash; release candidate: U.S. Geological Survey Software Release, 15 December 2019, http://dx.doi.org/10.5066/F7BK19FH](http://dx.doi.org/10.5066/F7BK19FH)\n",
    "\n",
    "\n",
    "MODFLOW Resources\n",
    "-----------------------------------------------\n",
    "\n",
    "+ [MODFLOW and Related Programs](http://water.usgs.gov/ogw/modflow/)\n",
    "+ [Online guide for MODFLOW-2000](http://water.usgs.gov/nrp/gwsoftware/modflow2000/Guide/index.html)\n",
    "+ [Online guide for MODFLOW-2005](http://water.usgs.gov/ogw/modflow/MODFLOW-2005-Guide/)\n",
    "+ [Online guide for MODFLOW-NWT](http://water.usgs.gov/ogw/modflow-nwt/MODFLOW-NWT-Guide/)\n",
    "\n",
    "\n",
    "Disclaimer\n",
    "-----------------------------------------------\n",
    "\n",
    "This software is preliminary or provisional and is subject to revision. It is being provided to meet the need for timely best science. The software has not received final approval by the U.S. Geological Survey (USGS). No warranty, expressed or implied, is made by the USGS or the U.S. Government as to the functionality of the software and related material nor shall the fact of release constitute any such warranty. The software is provided on the condition that neither the USGS nor the U.S. Government shall be held liable for any damages resulting from the authorized or unauthorized use of the software."
   ]
  },
  {
   "cell_type": "code",
   "execution_count": null,
   "metadata": {},
   "outputs": [],
   "source": []
  }
 ],
 "metadata": {
  "kernelspec": {
   "display_name": "Python 3",
   "language": "python",
   "name": "python3"
  },
  "language_info": {
   "codemirror_mode": {
    "name": "ipython",
    "version": 3
   },
   "file_extension": ".py",
   "mimetype": "text/x-python",
   "name": "python",
   "nbconvert_exporter": "python",
   "pygments_lexer": "ipython3",
   "version": "3.8.1"
  }
 },
 "nbformat": 4,
 "nbformat_minor": 4
}
